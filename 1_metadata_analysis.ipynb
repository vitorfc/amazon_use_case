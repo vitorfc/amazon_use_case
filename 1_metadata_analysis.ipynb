{
 "metadata": {
  "language_info": {
   "codemirror_mode": {
    "name": "ipython",
    "version": 3
   },
   "file_extension": ".py",
   "mimetype": "text/x-python",
   "name": "python",
   "nbconvert_exporter": "python",
   "pygments_lexer": "ipython3",
   "version": "3.8.5"
  },
  "orig_nbformat": 2,
  "kernelspec": {
   "name": "python385jvsc74a57bd06d4093bf0d82cf9d7cbff82fec796d9e3de98a5c49021a907317f555ca0caf40",
   "display_name": "Python 3.8.5 64-bit ('base': conda)"
  }
 },
 "nbformat": 4,
 "nbformat_minor": 2,
 "cells": [
  {
   "source": [
    "# DATA ANALYSIS - AMAZON REVIEWS\n",
    "____\n",
    "by Vitor Flisch Cavalanti<br>\n",
    "May 2021\n",
    "\n",
    "<b>Case study Sr. Business Analyst</b>"
   ],
   "cell_type": "markdown",
   "metadata": {}
  },
  {
   "cell_type": "code",
   "execution_count": 1,
   "metadata": {},
   "outputs": [],
   "source": [
    "# importing libraries\n",
    "import pandas as pd\n",
    "import numpy as np \n",
    "import ast"
   ]
  },
  {
   "source": [
    "<hr><h2>1. Working with Metadata file</h2><hr>"
   ],
   "cell_type": "markdown",
   "metadata": {}
  },
  {
   "cell_type": "code",
   "execution_count": 2,
   "metadata": {},
   "outputs": [],
   "source": [
    "metadata = pd.read_csv(\"../files/metadata.csv\", nrows=5)"
   ]
  },
  {
   "cell_type": "code",
   "execution_count": 3,
   "metadata": {},
   "outputs": [
    {
     "output_type": "execute_result",
     "data": {
      "text/plain": [
       "   Unnamed: 0     asin                 salesRank  \\\n",
       "0           0  1048791        {'Books': 6334800}   \n",
       "1           1   143561   {'Movies & TV': 376041}   \n",
       "2           2    37214     {'Clothing': 1233557}   \n",
       "3           3    32069                       NaN   \n",
       "4           4    31909  {'Toys & Games': 201847}   \n",
       "\n",
       "                                               imUrl  \\\n",
       "0  http://ecx.images-amazon.com/images/I/51MKP0T4...   \n",
       "1  http://g-ecx.images-amazon.com/images/G/01/x-s...   \n",
       "2  http://ecx.images-amazon.com/images/I/31mCncNu...   \n",
       "3  http://ecx.images-amazon.com/images/I/51EzU6qu...   \n",
       "4  http://ecx.images-amazon.com/images/I/41xBoP0F...   \n",
       "\n",
       "                                          categories  \\\n",
       "0                                        [['Books']]   \n",
       "1                        [['Movies & TV', 'Movies']]   \n",
       "2  [['Clothing, Shoes & Jewelry', 'Girls'], ['Clo...   \n",
       "3  [['Sports & Outdoors', 'Other Sports', 'Dance'...   \n",
       "4   [['Sports & Outdoors', 'Other Sports', 'Dance']]   \n",
       "\n",
       "                                               title  \\\n",
       "0  The Crucible: Performed by Stuart Pankin, Jero...   \n",
       "1  Everyday Italian (with Giada de Laurentiis), V...   \n",
       "2  Purple Sequin Tiny Dancer Tutu Ballet Dance Fa...   \n",
       "3                     Adult Ballet Tutu Cheetah Pink   \n",
       "4                        Girls Ballet Tutu Neon Pink   \n",
       "\n",
       "                                         description  price  \\\n",
       "0                                                NaN    NaN   \n",
       "1  3Pack DVD set - Italian Classics, Parties and ...  12.99   \n",
       "2                                                NaN   6.99   \n",
       "3                                                NaN   7.89   \n",
       "4  High quality 3 layer ballet tutu. 12 inches in...   7.00   \n",
       "\n",
       "                                             related       brand  \n",
       "0                                                NaN         NaN  \n",
       "1  {'also_viewed': ['B0036FO6SI', 'B000KL8ODE', '...         NaN  \n",
       "2  {'also_viewed': ['B00JO8II76', 'B00DGN4R1Q', '...  Big Dreams  \n",
       "3  {'also_bought': ['0000032050', 'B00D0DJAEG', '...    BubuBibi  \n",
       "4  {'also_bought': ['B002BZX8Z6', 'B00JHONN1S', '...     Unknown  "
      ],
      "text/html": "<div>\n<style scoped>\n    .dataframe tbody tr th:only-of-type {\n        vertical-align: middle;\n    }\n\n    .dataframe tbody tr th {\n        vertical-align: top;\n    }\n\n    .dataframe thead th {\n        text-align: right;\n    }\n</style>\n<table border=\"1\" class=\"dataframe\">\n  <thead>\n    <tr style=\"text-align: right;\">\n      <th></th>\n      <th>Unnamed: 0</th>\n      <th>asin</th>\n      <th>salesRank</th>\n      <th>imUrl</th>\n      <th>categories</th>\n      <th>title</th>\n      <th>description</th>\n      <th>price</th>\n      <th>related</th>\n      <th>brand</th>\n    </tr>\n  </thead>\n  <tbody>\n    <tr>\n      <th>0</th>\n      <td>0</td>\n      <td>1048791</td>\n      <td>{'Books': 6334800}</td>\n      <td>http://ecx.images-amazon.com/images/I/51MKP0T4...</td>\n      <td>[['Books']]</td>\n      <td>The Crucible: Performed by Stuart Pankin, Jero...</td>\n      <td>NaN</td>\n      <td>NaN</td>\n      <td>NaN</td>\n      <td>NaN</td>\n    </tr>\n    <tr>\n      <th>1</th>\n      <td>1</td>\n      <td>143561</td>\n      <td>{'Movies &amp; TV': 376041}</td>\n      <td>http://g-ecx.images-amazon.com/images/G/01/x-s...</td>\n      <td>[['Movies &amp; TV', 'Movies']]</td>\n      <td>Everyday Italian (with Giada de Laurentiis), V...</td>\n      <td>3Pack DVD set - Italian Classics, Parties and ...</td>\n      <td>12.99</td>\n      <td>{'also_viewed': ['B0036FO6SI', 'B000KL8ODE', '...</td>\n      <td>NaN</td>\n    </tr>\n    <tr>\n      <th>2</th>\n      <td>2</td>\n      <td>37214</td>\n      <td>{'Clothing': 1233557}</td>\n      <td>http://ecx.images-amazon.com/images/I/31mCncNu...</td>\n      <td>[['Clothing, Shoes &amp; Jewelry', 'Girls'], ['Clo...</td>\n      <td>Purple Sequin Tiny Dancer Tutu Ballet Dance Fa...</td>\n      <td>NaN</td>\n      <td>6.99</td>\n      <td>{'also_viewed': ['B00JO8II76', 'B00DGN4R1Q', '...</td>\n      <td>Big Dreams</td>\n    </tr>\n    <tr>\n      <th>3</th>\n      <td>3</td>\n      <td>32069</td>\n      <td>NaN</td>\n      <td>http://ecx.images-amazon.com/images/I/51EzU6qu...</td>\n      <td>[['Sports &amp; Outdoors', 'Other Sports', 'Dance'...</td>\n      <td>Adult Ballet Tutu Cheetah Pink</td>\n      <td>NaN</td>\n      <td>7.89</td>\n      <td>{'also_bought': ['0000032050', 'B00D0DJAEG', '...</td>\n      <td>BubuBibi</td>\n    </tr>\n    <tr>\n      <th>4</th>\n      <td>4</td>\n      <td>31909</td>\n      <td>{'Toys &amp; Games': 201847}</td>\n      <td>http://ecx.images-amazon.com/images/I/41xBoP0F...</td>\n      <td>[['Sports &amp; Outdoors', 'Other Sports', 'Dance']]</td>\n      <td>Girls Ballet Tutu Neon Pink</td>\n      <td>High quality 3 layer ballet tutu. 12 inches in...</td>\n      <td>7.00</td>\n      <td>{'also_bought': ['B002BZX8Z6', 'B00JHONN1S', '...</td>\n      <td>Unknown</td>\n    </tr>\n  </tbody>\n</table>\n</div>"
     },
     "metadata": {},
     "execution_count": 3
    }
   ],
   "source": [
    "metadata.head()"
   ]
  },
  {
   "cell_type": "code",
   "execution_count": 4,
   "metadata": {},
   "outputs": [],
   "source": [
    "metadata = pd.read_csv(\"../files/metadata.csv\", usecols = ['asin','salesRank','categories','title','related','brand','price'])"
   ]
  },
  {
   "cell_type": "code",
   "execution_count": 5,
   "metadata": {},
   "outputs": [
    {
     "output_type": "stream",
     "name": "stdout",
     "text": [
      "<class 'pandas.core.frame.DataFrame'>\nRangeIndex: 9430088 entries, 0 to 9430087\nData columns (total 7 columns):\n #   Column      Dtype  \n---  ------      -----  \n 0   asin        object \n 1   salesRank   object \n 2   categories  object \n 3   title       object \n 4   price       float64\n 5   related     object \n 6   brand       object \ndtypes: float64(1), object(6)\nmemory usage: 503.6+ MB\n"
     ]
    }
   ],
   "source": [
    "metadata.info()"
   ]
  },
  {
   "cell_type": "code",
   "execution_count": 6,
   "metadata": {},
   "outputs": [
    {
     "output_type": "execute_result",
     "data": {
      "text/plain": [
       "asin                0\n",
       "salesRank     2453361\n",
       "categories      75256\n",
       "title         1432740\n",
       "price         3366880\n",
       "related       2738415\n",
       "brand         7702894\n",
       "dtype: int64"
      ]
     },
     "metadata": {},
     "execution_count": 6
    }
   ],
   "source": [
    "# checking nulls\n",
    "metadata.isnull().sum() "
   ]
  },
  {
   "cell_type": "code",
   "execution_count": 7,
   "metadata": {},
   "outputs": [
    {
     "output_type": "execute_result",
     "data": {
      "text/plain": [
       "(9430088, 7)"
      ]
     },
     "metadata": {},
     "execution_count": 7
    }
   ],
   "source": [
    "metadata.shape"
   ]
  },
  {
   "source": [
    "<hr><h4>a. Formatting Sales Rank</h4><hr>"
   ],
   "cell_type": "markdown",
   "metadata": {}
  },
  {
   "cell_type": "code",
   "execution_count": 8,
   "metadata": {},
   "outputs": [],
   "source": [
    "# Filling Null values at the Sales Rank column\n",
    "metadata.salesRank.fillna(\"{'Null': 0}\", inplace=True)"
   ]
  },
  {
   "cell_type": "code",
   "execution_count": 9,
   "metadata": {},
   "outputs": [],
   "source": [
    "# replacing empty sales rank with {'Null': 0}\n",
    "metadata['salesRank'] = metadata['salesRank'].replace([\"{}\"],\"{'Null': 0}\")"
   ]
  },
  {
   "cell_type": "code",
   "execution_count": 10,
   "metadata": {},
   "outputs": [],
   "source": [
    "# converting sales rank to dict\n",
    "metadata[\"salesRank\"] = metadata.salesRank.apply(lambda x: ast.literal_eval(x))"
   ]
  },
  {
   "cell_type": "code",
   "execution_count": 11,
   "metadata": {},
   "outputs": [],
   "source": [
    "# Getting category from sales rank category \n",
    "metadata[\"salesrank_category\"] = metadata.salesRank.apply(lambda x: list(x.keys())[0]) "
   ]
  },
  {
   "cell_type": "code",
   "execution_count": 12,
   "metadata": {},
   "outputs": [],
   "source": [
    "metadata[\"salesrank_value\"] = metadata.salesRank.apply(lambda x: list(x.values())[0]) "
   ]
  },
  {
   "cell_type": "code",
   "execution_count": 13,
   "metadata": {},
   "outputs": [
    {
     "output_type": "execute_result",
     "data": {
      "text/plain": [
       "Null                     2480856\n",
       "Books                    1891411\n",
       "Clothing                  712239\n",
       "Music                     508134\n",
       "Sports &amp; Outdoors     458489\n",
       "Name: salesrank_category, dtype: int64"
      ]
     },
     "metadata": {},
     "execution_count": 13
    }
   ],
   "source": [
    "# top 5 categories with more products\n",
    "metadata['salesrank_category'].value_counts().head(5) "
   ]
  },
  {
   "cell_type": "code",
   "execution_count": 15,
   "metadata": {},
   "outputs": [
    {
     "output_type": "execute_result",
     "data": {
      "text/plain": [
       "0"
      ]
     },
     "metadata": {},
     "execution_count": 15
    }
   ],
   "source": [
    "# Checking Duplicated Products\n",
    "duplicateRows = metadata[metadata.duplicated(['asin'])] \n",
    "duplicateRows['asin'].count() # checking dupplicated products"
   ]
  },
  {
   "cell_type": "code",
   "execution_count": 16,
   "metadata": {},
   "outputs": [],
   "source": [
    "del duplicateRows"
   ]
  },
  {
   "cell_type": "code",
   "execution_count": 17,
   "metadata": {},
   "outputs": [],
   "source": [
    "#drop sales rank column\n",
    "metadata.drop(['salesRank'], axis='columns',inplace=True)"
   ]
  },
  {
   "source": [
    "<hr><h4>b. Exploding Categories</h4><hr>"
   ],
   "cell_type": "markdown",
   "metadata": {}
  },
  {
   "cell_type": "code",
   "execution_count": 19,
   "metadata": {},
   "outputs": [
    {
     "output_type": "execute_result",
     "data": {
      "text/plain": [
       "               asin                                         categories  \\\n",
       "0        0001048791                                        [['Books']]   \n",
       "1        0000143561                        [['Movies & TV', 'Movies']]   \n",
       "2        0000037214  [['Clothing, Shoes & Jewelry', 'Girls'], ['Clo...   \n",
       "3        0000032069  [['Sports & Outdoors', 'Other Sports', 'Dance'...   \n",
       "4        0000031909   [['Sports & Outdoors', 'Other Sports', 'Dance']]   \n",
       "...             ...                                                ...   \n",
       "9430083  B00LZFHL7Y  [['Books', 'Literature & Fiction', 'Erotica'],...   \n",
       "9430084  B00LV8M74W  [['Books', 'Literature & Fiction', 'Genre Fict...   \n",
       "9430085  B00LXQXLGU                         [['Amazon Instant Video']]   \n",
       "9430086  B00LV8STE4  [['Books', 'Arts & Photography', 'Music', 'Mus...   \n",
       "9430087  SMLRBIMX03  [['Musical Instruments', 'Instrument Accessori...   \n",
       "\n",
       "                                                     title   price  \\\n",
       "0        The Crucible: Performed by Stuart Pankin, Jero...     NaN   \n",
       "1        Everyday Italian (with Giada de Laurentiis), V...   12.99   \n",
       "2        Purple Sequin Tiny Dancer Tutu Ballet Dance Fa...    6.99   \n",
       "3                           Adult Ballet Tutu Cheetah Pink    7.89   \n",
       "4                              Girls Ballet Tutu Neon Pink    7.00   \n",
       "...                                                    ...     ...   \n",
       "9430083                                                NaN    0.99   \n",
       "9430084                                                NaN    3.99   \n",
       "9430085                                                NaN     NaN   \n",
       "9430086                                                NaN     NaN   \n",
       "9430087  LR Baggs iMix w/IBeam, Element, Preamp, Mixer,...  229.00   \n",
       "\n",
       "                                                   related       brand  \\\n",
       "0                                                      NaN         NaN   \n",
       "1        {'also_viewed': ['B0036FO6SI', 'B000KL8ODE', '...         NaN   \n",
       "2        {'also_viewed': ['B00JO8II76', 'B00DGN4R1Q', '...  Big Dreams   \n",
       "3        {'also_bought': ['0000032050', 'B00D0DJAEG', '...    BubuBibi   \n",
       "4        {'also_bought': ['B002BZX8Z6', 'B00JHONN1S', '...     Unknown   \n",
       "...                                                    ...         ...   \n",
       "9430083  {'also_bought': ['B00LXK4KIO', 'B00LZ19FE0', '...         NaN   \n",
       "9430084  {'also_bought': ['B00LYOC1R6', 'B00L0WXZIG', '...         NaN   \n",
       "9430085                                                NaN         NaN   \n",
       "9430086                                                NaN         NaN   \n",
       "9430087  {'also_viewed': ['B003SRHFIW', 'B001E95KJC', '...    LR Baggs   \n",
       "\n",
       "          salesrank_category  salesrank_value  \n",
       "0                      Books          6334800  \n",
       "1                Movies & TV           376041  \n",
       "2                   Clothing          1233557  \n",
       "3                       Null                0  \n",
       "4               Toys & Games           201847  \n",
       "...                      ...              ...  \n",
       "9430083                 Null                0  \n",
       "9430084                 Null                0  \n",
       "9430085                 Null                0  \n",
       "9430086                 Null                0  \n",
       "9430087  Musical Instruments           107527  \n",
       "\n",
       "[9354832 rows x 8 columns]"
      ],
      "text/html": "<div>\n<style scoped>\n    .dataframe tbody tr th:only-of-type {\n        vertical-align: middle;\n    }\n\n    .dataframe tbody tr th {\n        vertical-align: top;\n    }\n\n    .dataframe thead th {\n        text-align: right;\n    }\n</style>\n<table border=\"1\" class=\"dataframe\">\n  <thead>\n    <tr style=\"text-align: right;\">\n      <th></th>\n      <th>asin</th>\n      <th>categories</th>\n      <th>title</th>\n      <th>price</th>\n      <th>related</th>\n      <th>brand</th>\n      <th>salesrank_category</th>\n      <th>salesrank_value</th>\n    </tr>\n  </thead>\n  <tbody>\n    <tr>\n      <th>0</th>\n      <td>0001048791</td>\n      <td>[['Books']]</td>\n      <td>The Crucible: Performed by Stuart Pankin, Jero...</td>\n      <td>NaN</td>\n      <td>NaN</td>\n      <td>NaN</td>\n      <td>Books</td>\n      <td>6334800</td>\n    </tr>\n    <tr>\n      <th>1</th>\n      <td>0000143561</td>\n      <td>[['Movies &amp; TV', 'Movies']]</td>\n      <td>Everyday Italian (with Giada de Laurentiis), V...</td>\n      <td>12.99</td>\n      <td>{'also_viewed': ['B0036FO6SI', 'B000KL8ODE', '...</td>\n      <td>NaN</td>\n      <td>Movies &amp; TV</td>\n      <td>376041</td>\n    </tr>\n    <tr>\n      <th>2</th>\n      <td>0000037214</td>\n      <td>[['Clothing, Shoes &amp; Jewelry', 'Girls'], ['Clo...</td>\n      <td>Purple Sequin Tiny Dancer Tutu Ballet Dance Fa...</td>\n      <td>6.99</td>\n      <td>{'also_viewed': ['B00JO8II76', 'B00DGN4R1Q', '...</td>\n      <td>Big Dreams</td>\n      <td>Clothing</td>\n      <td>1233557</td>\n    </tr>\n    <tr>\n      <th>3</th>\n      <td>0000032069</td>\n      <td>[['Sports &amp; Outdoors', 'Other Sports', 'Dance'...</td>\n      <td>Adult Ballet Tutu Cheetah Pink</td>\n      <td>7.89</td>\n      <td>{'also_bought': ['0000032050', 'B00D0DJAEG', '...</td>\n      <td>BubuBibi</td>\n      <td>Null</td>\n      <td>0</td>\n    </tr>\n    <tr>\n      <th>4</th>\n      <td>0000031909</td>\n      <td>[['Sports &amp; Outdoors', 'Other Sports', 'Dance']]</td>\n      <td>Girls Ballet Tutu Neon Pink</td>\n      <td>7.00</td>\n      <td>{'also_bought': ['B002BZX8Z6', 'B00JHONN1S', '...</td>\n      <td>Unknown</td>\n      <td>Toys &amp; Games</td>\n      <td>201847</td>\n    </tr>\n    <tr>\n      <th>...</th>\n      <td>...</td>\n      <td>...</td>\n      <td>...</td>\n      <td>...</td>\n      <td>...</td>\n      <td>...</td>\n      <td>...</td>\n      <td>...</td>\n    </tr>\n    <tr>\n      <th>9430083</th>\n      <td>B00LZFHL7Y</td>\n      <td>[['Books', 'Literature &amp; Fiction', 'Erotica'],...</td>\n      <td>NaN</td>\n      <td>0.99</td>\n      <td>{'also_bought': ['B00LXK4KIO', 'B00LZ19FE0', '...</td>\n      <td>NaN</td>\n      <td>Null</td>\n      <td>0</td>\n    </tr>\n    <tr>\n      <th>9430084</th>\n      <td>B00LV8M74W</td>\n      <td>[['Books', 'Literature &amp; Fiction', 'Genre Fict...</td>\n      <td>NaN</td>\n      <td>3.99</td>\n      <td>{'also_bought': ['B00LYOC1R6', 'B00L0WXZIG', '...</td>\n      <td>NaN</td>\n      <td>Null</td>\n      <td>0</td>\n    </tr>\n    <tr>\n      <th>9430085</th>\n      <td>B00LXQXLGU</td>\n      <td>[['Amazon Instant Video']]</td>\n      <td>NaN</td>\n      <td>NaN</td>\n      <td>NaN</td>\n      <td>NaN</td>\n      <td>Null</td>\n      <td>0</td>\n    </tr>\n    <tr>\n      <th>9430086</th>\n      <td>B00LV8STE4</td>\n      <td>[['Books', 'Arts &amp; Photography', 'Music', 'Mus...</td>\n      <td>NaN</td>\n      <td>NaN</td>\n      <td>NaN</td>\n      <td>NaN</td>\n      <td>Null</td>\n      <td>0</td>\n    </tr>\n    <tr>\n      <th>9430087</th>\n      <td>SMLRBIMX03</td>\n      <td>[['Musical Instruments', 'Instrument Accessori...</td>\n      <td>LR Baggs iMix w/IBeam, Element, Preamp, Mixer,...</td>\n      <td>229.00</td>\n      <td>{'also_viewed': ['B003SRHFIW', 'B001E95KJC', '...</td>\n      <td>LR Baggs</td>\n      <td>Musical Instruments</td>\n      <td>107527</td>\n    </tr>\n  </tbody>\n</table>\n<p>9354832 rows × 8 columns</p>\n</div>"
     },
     "metadata": {},
     "execution_count": 19
    }
   ],
   "source": [
    "metadata_cat = metadata[~metadata['categories'].isna()]\n",
    "metadata_cat"
   ]
  },
  {
   "cell_type": "code",
   "execution_count": 1,
   "metadata": {},
   "outputs": [],
   "source": [
    "# converting categories to list\n",
    "metadata_cat['categories'] = metadata_cat.categories.apply(eval)"
   ]
  },
  {
   "cell_type": "code",
   "execution_count": 21,
   "metadata": {},
   "outputs": [],
   "source": [
    "# create auxiliar data frame to explode categories\n",
    "metadata_categories = (metadata_cat[[\"asin\",\"categories\"]])"
   ]
  },
  {
   "cell_type": "code",
   "execution_count": 22,
   "metadata": {},
   "outputs": [],
   "source": [
    "# exploding categories by product\n",
    "metadata_categories = metadata_categories.explode(\"categories\").explode(\"categories\")"
   ]
  },
  {
   "cell_type": "code",
   "execution_count": 23,
   "metadata": {},
   "outputs": [],
   "source": [
    "# getting the most common categories by product\n",
    "group_metadata_cat = metadata_categories.groupby(['asin', 'categories']).size().reset_index(name=\"Count\")"
   ]
  },
  {
   "cell_type": "code",
   "execution_count": 24,
   "metadata": {},
   "outputs": [],
   "source": [
    "# filter the categorie(s) with most occurrences \n",
    "filter_max_cat = group_metadata_cat[group_metadata_cat.groupby([\"asin\"])['Count'].transform(max) == group_metadata_cat[\"Count\"]]"
   ]
  },
  {
   "cell_type": "code",
   "execution_count": 25,
   "metadata": {},
   "outputs": [],
   "source": [
    "# get the first category in case of having more than 1\n",
    "filter_first_cat = filter_max_cat.groupby(\"asin\").first().reset_index()"
   ]
  },
  {
   "cell_type": "code",
   "execution_count": 26,
   "metadata": {},
   "outputs": [],
   "source": [
    "#cleaning unused data frames\n",
    "del metadata_categories\n",
    "del group_metadata_cat\n",
    "del filter_max_cat\n",
    "del metadata_cat"
   ]
  },
  {
   "cell_type": "code",
   "execution_count": 27,
   "metadata": {},
   "outputs": [],
   "source": [
    "# merging with the main dataframe\n",
    "metadata_join = pd.merge(metadata,filter_first_cat,on=\"asin\")"
   ]
  },
  {
   "cell_type": "code",
   "execution_count": 29,
   "metadata": {},
   "outputs": [],
   "source": [
    "# cleaning unused columns and the old dataframe\n",
    "metadata_join.drop(['categories_x','Count'], axis='columns',inplace=True)\n",
    "metadata_join.rename(columns = {'categories_y': 'main_category'}, inplace = True)\n",
    "del metadata"
   ]
  },
  {
   "source": [
    "<hr><h4>c. Extracting and Exploding Bought-Together</h4><hr>"
   ],
   "cell_type": "markdown",
   "metadata": {}
  },
  {
   "cell_type": "code",
   "execution_count": 31,
   "metadata": {},
   "outputs": [
    {
     "output_type": "execute_result",
     "data": {
      "text/plain": [
       "0          <class 'float'>\n",
       "1            <class 'str'>\n",
       "2            <class 'str'>\n",
       "3            <class 'str'>\n",
       "4            <class 'str'>\n",
       "                ...       \n",
       "9354827      <class 'str'>\n",
       "9354828      <class 'str'>\n",
       "9354829    <class 'float'>\n",
       "9354830    <class 'float'>\n",
       "9354831      <class 'str'>\n",
       "Name: related, Length: 9354832, dtype: object"
      ]
     },
     "metadata": {},
     "execution_count": 31
    }
   ],
   "source": [
    "metadata_join['related'].apply(type)"
   ]
  },
  {
   "cell_type": "code",
   "execution_count": 32,
   "metadata": {},
   "outputs": [],
   "source": [
    "# remove products with nulls at related column\n",
    "metadata_related = metadata_join[~metadata_join[\"related\"].isna()]"
   ]
  },
  {
   "cell_type": "code",
   "execution_count": 33,
   "metadata": {},
   "outputs": [],
   "source": [
    " # remove products without bought_together\n",
    " metadata_related = metadata_related[metadata_related['related'].str.contains(\"bought_together\")]"
   ]
  },
  {
   "source": [
    "metadata_related.drop(['title','price','brand','salesrank_category','salesrank_value','main_category'], axis='columns',inplace=True)"
   ],
   "cell_type": "code",
   "metadata": {},
   "execution_count": 35,
   "outputs": []
  },
  {
   "cell_type": "code",
   "execution_count": 36,
   "metadata": {},
   "outputs": [],
   "source": [
    "# convert related column to dict\n",
    "metadata_related[\"related\"] = metadata_related.related.apply(lambda x: ast.literal_eval(x))"
   ]
  },
  {
   "cell_type": "code",
   "execution_count": 37,
   "metadata": {},
   "outputs": [],
   "source": [
    "# creating new column only for bought together\n",
    "metadata_related[\"bought_together\"] = metadata_related.related.apply(lambda x: list(x.get(\"bought_together\"))) "
   ]
  },
  {
   "cell_type": "code",
   "execution_count": 38,
   "metadata": {},
   "outputs": [],
   "source": [
    "# deleting related column and merging back to main dataframe\n",
    "metadata_related.drop(['related'], axis='columns',inplace=True)"
   ]
  },
  {
   "cell_type": "code",
   "execution_count": 39,
   "metadata": {},
   "outputs": [],
   "source": [
    "# merging back to the main dataframe and deleting the related column\n",
    "# metadata_join = pd.merge(metadata_join,metadata_related,on=\"asin\")"
   ]
  },
  {
   "cell_type": "code",
   "execution_count": 40,
   "metadata": {},
   "outputs": [
    {
     "output_type": "execute_result",
     "data": {
      "text/plain": [
       "               asin                                              title  \\\n",
       "0        0001048791  The Crucible: Performed by Stuart Pankin, Jero...   \n",
       "1        0000143561  Everyday Italian (with Giada de Laurentiis), V...   \n",
       "2        0000037214  Purple Sequin Tiny Dancer Tutu Ballet Dance Fa...   \n",
       "3        0000032069                     Adult Ballet Tutu Cheetah Pink   \n",
       "4        0000031909                        Girls Ballet Tutu Neon Pink   \n",
       "...             ...                                                ...   \n",
       "9354827  B00LZFHL7Y                                                NaN   \n",
       "9354828  B00LV8M74W                                                NaN   \n",
       "9354829  B00LXQXLGU                                                NaN   \n",
       "9354830  B00LV8STE4                                                NaN   \n",
       "9354831  SMLRBIMX03  LR Baggs iMix w/IBeam, Element, Preamp, Mixer,...   \n",
       "\n",
       "          price                                            related  \\\n",
       "0           NaN                                                NaN   \n",
       "1         12.99  {'also_viewed': ['B0036FO6SI', 'B000KL8ODE', '...   \n",
       "2          6.99  {'also_viewed': ['B00JO8II76', 'B00DGN4R1Q', '...   \n",
       "3          7.89  {'also_bought': ['0000032050', 'B00D0DJAEG', '...   \n",
       "4          7.00  {'also_bought': ['B002BZX8Z6', 'B00JHONN1S', '...   \n",
       "...         ...                                                ...   \n",
       "9354827    0.99  {'also_bought': ['B00LXK4KIO', 'B00LZ19FE0', '...   \n",
       "9354828    3.99  {'also_bought': ['B00LYOC1R6', 'B00L0WXZIG', '...   \n",
       "9354829     NaN                                                NaN   \n",
       "9354830     NaN                                                NaN   \n",
       "9354831  229.00  {'also_viewed': ['B003SRHFIW', 'B001E95KJC', '...   \n",
       "\n",
       "              brand   salesrank_category  salesrank_value  \\\n",
       "0               NaN                Books          6334800   \n",
       "1               NaN          Movies & TV           376041   \n",
       "2        Big Dreams             Clothing          1233557   \n",
       "3          BubuBibi                 Null                0   \n",
       "4           Unknown         Toys & Games           201847   \n",
       "...             ...                  ...              ...   \n",
       "9354827         NaN                 Null                0   \n",
       "9354828         NaN                 Null                0   \n",
       "9354829         NaN                 Null                0   \n",
       "9354830         NaN                 Null                0   \n",
       "9354831    LR Baggs  Musical Instruments           107527   \n",
       "\n",
       "                             main_category  \n",
       "0                                    Books  \n",
       "1                                   Movies  \n",
       "2                Clothing, Shoes & Jewelry  \n",
       "3                                 Clothing  \n",
       "4                                    Dance  \n",
       "...                                    ...  \n",
       "9354827                            Erotica  \n",
       "9354828                              Books  \n",
       "9354829               Amazon Instant Video  \n",
       "9354830                 Arts & Photography  \n",
       "9354831  Acoustic & Classical Guitar Parts  \n",
       "\n",
       "[9354832 rows x 8 columns]"
      ],
      "text/html": "<div>\n<style scoped>\n    .dataframe tbody tr th:only-of-type {\n        vertical-align: middle;\n    }\n\n    .dataframe tbody tr th {\n        vertical-align: top;\n    }\n\n    .dataframe thead th {\n        text-align: right;\n    }\n</style>\n<table border=\"1\" class=\"dataframe\">\n  <thead>\n    <tr style=\"text-align: right;\">\n      <th></th>\n      <th>asin</th>\n      <th>title</th>\n      <th>price</th>\n      <th>related</th>\n      <th>brand</th>\n      <th>salesrank_category</th>\n      <th>salesrank_value</th>\n      <th>main_category</th>\n    </tr>\n  </thead>\n  <tbody>\n    <tr>\n      <th>0</th>\n      <td>0001048791</td>\n      <td>The Crucible: Performed by Stuart Pankin, Jero...</td>\n      <td>NaN</td>\n      <td>NaN</td>\n      <td>NaN</td>\n      <td>Books</td>\n      <td>6334800</td>\n      <td>Books</td>\n    </tr>\n    <tr>\n      <th>1</th>\n      <td>0000143561</td>\n      <td>Everyday Italian (with Giada de Laurentiis), V...</td>\n      <td>12.99</td>\n      <td>{'also_viewed': ['B0036FO6SI', 'B000KL8ODE', '...</td>\n      <td>NaN</td>\n      <td>Movies &amp; TV</td>\n      <td>376041</td>\n      <td>Movies</td>\n    </tr>\n    <tr>\n      <th>2</th>\n      <td>0000037214</td>\n      <td>Purple Sequin Tiny Dancer Tutu Ballet Dance Fa...</td>\n      <td>6.99</td>\n      <td>{'also_viewed': ['B00JO8II76', 'B00DGN4R1Q', '...</td>\n      <td>Big Dreams</td>\n      <td>Clothing</td>\n      <td>1233557</td>\n      <td>Clothing, Shoes &amp; Jewelry</td>\n    </tr>\n    <tr>\n      <th>3</th>\n      <td>0000032069</td>\n      <td>Adult Ballet Tutu Cheetah Pink</td>\n      <td>7.89</td>\n      <td>{'also_bought': ['0000032050', 'B00D0DJAEG', '...</td>\n      <td>BubuBibi</td>\n      <td>Null</td>\n      <td>0</td>\n      <td>Clothing</td>\n    </tr>\n    <tr>\n      <th>4</th>\n      <td>0000031909</td>\n      <td>Girls Ballet Tutu Neon Pink</td>\n      <td>7.00</td>\n      <td>{'also_bought': ['B002BZX8Z6', 'B00JHONN1S', '...</td>\n      <td>Unknown</td>\n      <td>Toys &amp; Games</td>\n      <td>201847</td>\n      <td>Dance</td>\n    </tr>\n    <tr>\n      <th>...</th>\n      <td>...</td>\n      <td>...</td>\n      <td>...</td>\n      <td>...</td>\n      <td>...</td>\n      <td>...</td>\n      <td>...</td>\n      <td>...</td>\n    </tr>\n    <tr>\n      <th>9354827</th>\n      <td>B00LZFHL7Y</td>\n      <td>NaN</td>\n      <td>0.99</td>\n      <td>{'also_bought': ['B00LXK4KIO', 'B00LZ19FE0', '...</td>\n      <td>NaN</td>\n      <td>Null</td>\n      <td>0</td>\n      <td>Erotica</td>\n    </tr>\n    <tr>\n      <th>9354828</th>\n      <td>B00LV8M74W</td>\n      <td>NaN</td>\n      <td>3.99</td>\n      <td>{'also_bought': ['B00LYOC1R6', 'B00L0WXZIG', '...</td>\n      <td>NaN</td>\n      <td>Null</td>\n      <td>0</td>\n      <td>Books</td>\n    </tr>\n    <tr>\n      <th>9354829</th>\n      <td>B00LXQXLGU</td>\n      <td>NaN</td>\n      <td>NaN</td>\n      <td>NaN</td>\n      <td>NaN</td>\n      <td>Null</td>\n      <td>0</td>\n      <td>Amazon Instant Video</td>\n    </tr>\n    <tr>\n      <th>9354830</th>\n      <td>B00LV8STE4</td>\n      <td>NaN</td>\n      <td>NaN</td>\n      <td>NaN</td>\n      <td>NaN</td>\n      <td>Null</td>\n      <td>0</td>\n      <td>Arts &amp; Photography</td>\n    </tr>\n    <tr>\n      <th>9354831</th>\n      <td>SMLRBIMX03</td>\n      <td>LR Baggs iMix w/IBeam, Element, Preamp, Mixer,...</td>\n      <td>229.00</td>\n      <td>{'also_viewed': ['B003SRHFIW', 'B001E95KJC', '...</td>\n      <td>LR Baggs</td>\n      <td>Musical Instruments</td>\n      <td>107527</td>\n      <td>Acoustic &amp; Classical Guitar Parts</td>\n    </tr>\n  </tbody>\n</table>\n<p>9354832 rows × 8 columns</p>\n</div>"
     },
     "metadata": {},
     "execution_count": 40
    }
   ],
   "source": [
    "metadata_join"
   ]
  },
  {
   "cell_type": "code",
   "execution_count": 41,
   "metadata": {},
   "outputs": [],
   "source": [
    "# exploding bought together\n",
    "metadata_related = metadata_related.explode(\"bought_together\")"
   ]
  },
  {
   "cell_type": "code",
   "execution_count": 42,
   "metadata": {},
   "outputs": [
    {
     "output_type": "execute_result",
     "data": {
      "text/plain": [
       "               asin bought_together\n",
       "3        0000032069      0000032050\n",
       "3        0000032069      B00D0DJAEG\n",
       "3        0000032069      0000032042\n",
       "3        0000032069      B00D0F450I\n",
       "4        0000031909      B002BZX8Z6\n",
       "...             ...             ...\n",
       "9354657  B00LVHLRZ8      B00GJYQCB2\n",
       "9354657  B00LVHLRZ8      B00K7KT2E8\n",
       "9354658  B00LWWANMU      B00ER1OL08\n",
       "9354658  B00LWWANMU      B00EMDL9Y2\n",
       "9354793  BT008G3W52      B0002D6QJO\n",
       "\n",
       "[5135724 rows x 2 columns]"
      ],
      "text/html": "<div>\n<style scoped>\n    .dataframe tbody tr th:only-of-type {\n        vertical-align: middle;\n    }\n\n    .dataframe tbody tr th {\n        vertical-align: top;\n    }\n\n    .dataframe thead th {\n        text-align: right;\n    }\n</style>\n<table border=\"1\" class=\"dataframe\">\n  <thead>\n    <tr style=\"text-align: right;\">\n      <th></th>\n      <th>asin</th>\n      <th>bought_together</th>\n    </tr>\n  </thead>\n  <tbody>\n    <tr>\n      <th>3</th>\n      <td>0000032069</td>\n      <td>0000032050</td>\n    </tr>\n    <tr>\n      <th>3</th>\n      <td>0000032069</td>\n      <td>B00D0DJAEG</td>\n    </tr>\n    <tr>\n      <th>3</th>\n      <td>0000032069</td>\n      <td>0000032042</td>\n    </tr>\n    <tr>\n      <th>3</th>\n      <td>0000032069</td>\n      <td>B00D0F450I</td>\n    </tr>\n    <tr>\n      <th>4</th>\n      <td>0000031909</td>\n      <td>B002BZX8Z6</td>\n    </tr>\n    <tr>\n      <th>...</th>\n      <td>...</td>\n      <td>...</td>\n    </tr>\n    <tr>\n      <th>9354657</th>\n      <td>B00LVHLRZ8</td>\n      <td>B00GJYQCB2</td>\n    </tr>\n    <tr>\n      <th>9354657</th>\n      <td>B00LVHLRZ8</td>\n      <td>B00K7KT2E8</td>\n    </tr>\n    <tr>\n      <th>9354658</th>\n      <td>B00LWWANMU</td>\n      <td>B00ER1OL08</td>\n    </tr>\n    <tr>\n      <th>9354658</th>\n      <td>B00LWWANMU</td>\n      <td>B00EMDL9Y2</td>\n    </tr>\n    <tr>\n      <th>9354793</th>\n      <td>BT008G3W52</td>\n      <td>B0002D6QJO</td>\n    </tr>\n  </tbody>\n</table>\n<p>5135724 rows × 2 columns</p>\n</div>"
     },
     "metadata": {},
     "execution_count": 42
    }
   ],
   "source": [
    "metadata_related"
   ]
  },
  {
   "cell_type": "code",
   "execution_count": 44,
   "metadata": {},
   "outputs": [],
   "source": [
    "metadata_join.drop([\"related\"], axis=\"columns\", inplace=True)"
   ]
  },
  {
   "cell_type": "code",
   "execution_count": 45,
   "metadata": {},
   "outputs": [],
   "source": [
    "metadata_join.to_csv('../exports/metadata_full.csv')"
   ]
  },
  {
   "cell_type": "code",
   "execution_count": 46,
   "metadata": {},
   "outputs": [
    {
     "output_type": "execute_result",
     "data": {
      "text/plain": [
       "(9354832, 7)"
      ]
     },
     "metadata": {},
     "execution_count": 46
    }
   ],
   "source": [
    "metadata_join.shape"
   ]
  },
  {
   "cell_type": "code",
   "execution_count": 47,
   "metadata": {},
   "outputs": [],
   "source": [
    "metadata_related.to_csv('../exports/metadata_related_full.csv')"
   ]
  }
 ]
}