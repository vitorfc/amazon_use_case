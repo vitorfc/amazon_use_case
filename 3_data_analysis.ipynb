{
 "metadata": {
  "language_info": {
   "codemirror_mode": {
    "name": "ipython",
    "version": 3
   },
   "file_extension": ".py",
   "mimetype": "text/x-python",
   "name": "python",
   "nbconvert_exporter": "python",
   "pygments_lexer": "ipython3",
   "version": "3.8.5"
  },
  "orig_nbformat": 2,
  "kernelspec": {
   "name": "python385jvsc74a57bd06d4093bf0d82cf9d7cbff82fec796d9e3de98a5c49021a907317f555ca0caf40",
   "display_name": "Python 3.8.5 64-bit ('base': conda)"
  }
 },
 "nbformat": 4,
 "nbformat_minor": 2,
 "cells": [
  {
   "source": [
    "# DATA ANALYSIS - AMAZON REVIEWS\n",
    "____\n",
    "by Vitor Flisch Cavalanti<br>\n",
    "May 2021\n",
    "\n",
    "<b>Case study Sr. Business Analyst</b>\n",
    "\n",
    "Please present your analysis and actionable insights, as if you were to present to the management of Amazon. The \"Actionable business insights\" should be based on data, an example of an analytical approach is as follows:\n",
    " \n",
    "1) What is the relation between the reviews and the helpfulness?<br>\n",
    "2) What is the review behavior among different categories?<br>\n",
    "3) Is there a relationship between price and reviews?<br>\n",
    "4) Which group of reviewers is more valuable to the business?<br>\n",
    "5) Is there a relation between reviews from products which are bought together?<br>\n",
    "6) Optional - Any other hypothesis you think is interesting, as long it would have business value for Amazon"
   ],
   "cell_type": "markdown",
   "metadata": {}
  },
  {
   "cell_type": "code",
   "execution_count": 1,
   "metadata": {},
   "outputs": [],
   "source": [
    "import pandas as pd\n",
    "import numpy as np \n",
    "import matplotlib.pyplot as plt"
   ]
  },
  {
   "cell_type": "code",
   "execution_count": 2,
   "metadata": {},
   "outputs": [],
   "source": [
    "# read reviews\n",
    "reviews = pd.read_csv(\"../exports/final/reviews_concatenated.csv\")"
   ]
  },
  {
   "cell_type": "code",
   "execution_count": 3,
   "metadata": {},
   "outputs": [
    {
     "output_type": "stream",
     "name": "stderr",
     "text": [
      "C:\\Users\\vitor\\anaconda3\\lib\\site-packages\\IPython\\core\\interactiveshell.py:3146: DtypeWarning: Columns (6) have mixed types.Specify dtype option on import or set low_memory=False.\n  has_raised = await self.run_ast_nodes(code_ast.body, cell_name,\n"
     ]
    }
   ],
   "source": [
    "# read metadata\n",
    "metadata = pd.read_csv(\"../exports/final/metadata_final.csv\")"
   ]
  },
  {
   "cell_type": "code",
   "execution_count": 4,
   "metadata": {},
   "outputs": [],
   "source": [
    "# read metadata_related\n",
    "metadata_related = pd.read_csv(\"../exports/final/metadata_related.csv\")"
   ]
  },
  {
   "cell_type": "code",
   "execution_count": 5,
   "metadata": {},
   "outputs": [],
   "source": [
    "merge = pd.merge(reviews, metadata, on=\"asin\", how=\"inner\")"
   ]
  },
  {
   "source": [
    "<hr><h3>1) What is the relation between the reviews and the helpfulness?</h3><hr>"
   ],
   "cell_type": "markdown",
   "metadata": {}
  },
  {
   "cell_type": "code",
   "execution_count": 41,
   "metadata": {},
   "outputs": [
    {
     "output_type": "execute_result",
     "data": {
      "text/plain": [
       "<pandas.io.formats.style.Styler at 0x170775d98e0>"
      ],
      "text/html": "<style  type=\"text/css\" >\n#T_4f32d81a_c1c7_11eb_bc8c_18dbf209aa11row0_col0,#T_4f32d81a_c1c7_11eb_bc8c_18dbf209aa11row1_col1{\n            background-color:  #023858;\n            color:  #f1f1f1;\n        }#T_4f32d81a_c1c7_11eb_bc8c_18dbf209aa11row0_col1,#T_4f32d81a_c1c7_11eb_bc8c_18dbf209aa11row1_col0{\n            background-color:  #fff7fb;\n            color:  #000000;\n        }</style><table id=\"T_4f32d81a_c1c7_11eb_bc8c_18dbf209aa11\" ><thead>    <tr>        <th class=\"blank level0\" ></th>        <th class=\"col_heading level0 col0\" >helpful_score</th>        <th class=\"col_heading level0 col1\" >overall</th>    </tr></thead><tbody>\n                <tr>\n                        <th id=\"T_4f32d81a_c1c7_11eb_bc8c_18dbf209aa11level0_row0\" class=\"row_heading level0 row0\" >helpful_score</th>\n                        <td id=\"T_4f32d81a_c1c7_11eb_bc8c_18dbf209aa11row0_col0\" class=\"data row0 col0\" >1.000000</td>\n                        <td id=\"T_4f32d81a_c1c7_11eb_bc8c_18dbf209aa11row0_col1\" class=\"data row0 col1\" >0.269365</td>\n            </tr>\n            <tr>\n                        <th id=\"T_4f32d81a_c1c7_11eb_bc8c_18dbf209aa11level0_row1\" class=\"row_heading level0 row1\" >overall</th>\n                        <td id=\"T_4f32d81a_c1c7_11eb_bc8c_18dbf209aa11row1_col0\" class=\"data row1 col0\" >0.269365</td>\n                        <td id=\"T_4f32d81a_c1c7_11eb_bc8c_18dbf209aa11row1_col1\" class=\"data row1 col1\" >1.000000</td>\n            </tr>\n    </tbody></table>"
     },
     "metadata": {},
     "execution_count": 41
    }
   ],
   "source": [
    "corr = reviews[~reviews.helpful_score.isna()][['helpful_score','overall']].corr(method='pearson')\n",
    "corr.style.background_gradient()"
   ]
  },
  {
   "cell_type": "code",
   "execution_count": 46,
   "metadata": {},
   "outputs": [
    {
     "output_type": "execute_result",
     "data": {
      "text/plain": [
       "file\n",
       "reviews_Books_5.csv            0.259805\n",
       "reviews_Electronics_5.csv      0.254737\n",
       "reviews_Movies_and_TV_5.csv    0.297498\n",
       "Name: (helpful_score, overall), dtype: float64"
      ]
     },
     "metadata": {},
     "execution_count": 46
    }
   ],
   "source": [
    "# correlation by group of products\n",
    "merge[~merge.helpful_score.isna()].groupby('file')[['helpful_score','overall']].corr(method='pearson').unstack().iloc[:,1]"
   ]
  },
  {
   "cell_type": "code",
   "execution_count": 7,
   "metadata": {},
   "outputs": [
    {
     "output_type": "execute_result",
     "data": {
      "text/plain": [
       "<pandas.io.formats.style.Styler at 0x17019d4fc10>"
      ],
      "text/html": "<style  type=\"text/css\" >\n#T_b04b919b_c1c5_11eb_8d36_18dbf209aa11row0_col0,#T_b04b919b_c1c5_11eb_8d36_18dbf209aa11row1_col1{\n            background-color:  #023858;\n            color:  #f1f1f1;\n        }#T_b04b919b_c1c5_11eb_8d36_18dbf209aa11row0_col1,#T_b04b919b_c1c5_11eb_8d36_18dbf209aa11row1_col0{\n            background-color:  #fff7fb;\n            color:  #000000;\n        }</style><table id=\"T_b04b919b_c1c5_11eb_8d36_18dbf209aa11\" ><thead>    <tr>        <th class=\"blank level0\" ></th>        <th class=\"col_heading level0 col0\" >helpful_score</th>        <th class=\"col_heading level0 col1\" >overall</th>    </tr></thead><tbody>\n                <tr>\n                        <th id=\"T_b04b919b_c1c5_11eb_8d36_18dbf209aa11level0_row0\" class=\"row_heading level0 row0\" >helpful_score</th>\n                        <td id=\"T_b04b919b_c1c5_11eb_8d36_18dbf209aa11row0_col0\" class=\"data row0 col0\" >1.000000</td>\n                        <td id=\"T_b04b919b_c1c5_11eb_8d36_18dbf209aa11row0_col1\" class=\"data row0 col1\" >0.268791</td>\n            </tr>\n            <tr>\n                        <th id=\"T_b04b919b_c1c5_11eb_8d36_18dbf209aa11level0_row1\" class=\"row_heading level0 row1\" >overall</th>\n                        <td id=\"T_b04b919b_c1c5_11eb_8d36_18dbf209aa11row1_col0\" class=\"data row1 col0\" >0.268791</td>\n                        <td id=\"T_b04b919b_c1c5_11eb_8d36_18dbf209aa11row1_col1\" class=\"data row1 col1\" >1.000000</td>\n            </tr>\n    </tbody></table>"
     },
     "metadata": {},
     "execution_count": 7
    }
   ],
   "source": [
    "corr = reviews[~reviews.helpful_score.isna()][['helpful_score','overall']].corr(method='spearman')\n",
    "corr.style.background_gradient()"
   ]
  },
  {
   "cell_type": "code",
   "execution_count": 45,
   "metadata": {},
   "outputs": [
    {
     "output_type": "execute_result",
     "data": {
      "text/plain": [
       "file\n",
       "reviews_Books_5.csv            0.261090\n",
       "reviews_Electronics_5.csv      0.260054\n",
       "reviews_Movies_and_TV_5.csv    0.288505\n",
       "Name: (helpful_score, overall), dtype: float64"
      ]
     },
     "metadata": {},
     "execution_count": 45
    }
   ],
   "source": [
    "# correlation by group of products\n",
    "merge[~merge.helpful_score.isna()].groupby('file')[['helpful_score','overall']].corr(method='spearman').unstack().iloc[:,1]"
   ]
  },
  {
   "cell_type": "code",
   "execution_count": 8,
   "metadata": {},
   "outputs": [],
   "source": [
    "# Removing unused columns\n",
    "merge.drop([\"Unnamed: 0_x\",\"Unnamed: 0.1_x\",\"Unnamed: 0_y\",\"Unnamed: 0.1_y\"], axis=\"columns\", inplace=True)"
   ]
  },
  {
   "cell_type": "code",
   "execution_count": 9,
   "metadata": {},
   "outputs": [
    {
     "output_type": "execute_result",
     "data": {
      "text/plain": [
       "<pandas.io.formats.style.Styler at 0x1704a4c9520>"
      ],
      "text/html": "<style  type=\"text/css\" >\n#T_b3efad79_c1c5_11eb_98ac_18dbf209aa11row0_col0,#T_b3efad79_c1c5_11eb_98ac_18dbf209aa11row1_col1,#T_b3efad79_c1c5_11eb_98ac_18dbf209aa11row2_col2,#T_b3efad79_c1c5_11eb_98ac_18dbf209aa11row3_col3{\n            background-color:  #023858;\n            color:  #f1f1f1;\n        }#T_b3efad79_c1c5_11eb_98ac_18dbf209aa11row0_col1{\n            background-color:  #cccfe5;\n            color:  #000000;\n        }#T_b3efad79_c1c5_11eb_98ac_18dbf209aa11row0_col2,#T_b3efad79_c1c5_11eb_98ac_18dbf209aa11row1_col2{\n            background-color:  #f0eaf4;\n            color:  #000000;\n        }#T_b3efad79_c1c5_11eb_98ac_18dbf209aa11row0_col3{\n            background-color:  #f2ecf5;\n            color:  #000000;\n        }#T_b3efad79_c1c5_11eb_98ac_18dbf209aa11row1_col0{\n            background-color:  #c5cce3;\n            color:  #000000;\n        }#T_b3efad79_c1c5_11eb_98ac_18dbf209aa11row1_col3{\n            background-color:  #e7e3f0;\n            color:  #000000;\n        }#T_b3efad79_c1c5_11eb_98ac_18dbf209aa11row2_col0{\n            background-color:  #fcf4fa;\n            color:  #000000;\n        }#T_b3efad79_c1c5_11eb_98ac_18dbf209aa11row2_col1,#T_b3efad79_c1c5_11eb_98ac_18dbf209aa11row2_col3,#T_b3efad79_c1c5_11eb_98ac_18dbf209aa11row3_col0,#T_b3efad79_c1c5_11eb_98ac_18dbf209aa11row3_col2{\n            background-color:  #fff7fb;\n            color:  #000000;\n        }#T_b3efad79_c1c5_11eb_98ac_18dbf209aa11row3_col1{\n            background-color:  #f8f1f8;\n            color:  #000000;\n        }</style><table id=\"T_b3efad79_c1c5_11eb_98ac_18dbf209aa11\" ><thead>    <tr>        <th class=\"blank level0\" ></th>        <th class=\"col_heading level0 col0\" >overall</th>        <th class=\"col_heading level0 col1\" >helpful_score</th>        <th class=\"col_heading level0 col2\" >price</th>        <th class=\"col_heading level0 col3\" >salesrank_value</th>    </tr></thead><tbody>\n                <tr>\n                        <th id=\"T_b3efad79_c1c5_11eb_98ac_18dbf209aa11level0_row0\" class=\"row_heading level0 row0\" >overall</th>\n                        <td id=\"T_b3efad79_c1c5_11eb_98ac_18dbf209aa11row0_col0\" class=\"data row0 col0\" >1.000000</td>\n                        <td id=\"T_b3efad79_c1c5_11eb_98ac_18dbf209aa11row0_col1\" class=\"data row0 col1\" >0.269364</td>\n                        <td id=\"T_b3efad79_c1c5_11eb_98ac_18dbf209aa11row0_col2\" class=\"data row0 col2\" >0.004370</td>\n                        <td id=\"T_b3efad79_c1c5_11eb_98ac_18dbf209aa11row0_col3\" class=\"data row0 col3\" >-0.016917</td>\n            </tr>\n            <tr>\n                        <th id=\"T_b3efad79_c1c5_11eb_98ac_18dbf209aa11level0_row1\" class=\"row_heading level0 row1\" >helpful_score</th>\n                        <td id=\"T_b3efad79_c1c5_11eb_98ac_18dbf209aa11row1_col0\" class=\"data row1 col0\" >0.269364</td>\n                        <td id=\"T_b3efad79_c1c5_11eb_98ac_18dbf209aa11row1_col1\" class=\"data row1 col1\" >1.000000</td>\n                        <td id=\"T_b3efad79_c1c5_11eb_98ac_18dbf209aa11row1_col2\" class=\"data row1 col2\" >0.007054</td>\n                        <td id=\"T_b3efad79_c1c5_11eb_98ac_18dbf209aa11row1_col3\" class=\"data row1 col3\" >0.053198</td>\n            </tr>\n            <tr>\n                        <th id=\"T_b3efad79_c1c5_11eb_98ac_18dbf209aa11level0_row2\" class=\"row_heading level0 row2\" >price</th>\n                        <td id=\"T_b3efad79_c1c5_11eb_98ac_18dbf209aa11row2_col0\" class=\"data row2 col0\" >0.004370</td>\n                        <td id=\"T_b3efad79_c1c5_11eb_98ac_18dbf209aa11row2_col1\" class=\"data row2 col1\" >0.007054</td>\n                        <td id=\"T_b3efad79_c1c5_11eb_98ac_18dbf209aa11row2_col2\" class=\"data row2 col2\" >1.000000</td>\n                        <td id=\"T_b3efad79_c1c5_11eb_98ac_18dbf209aa11row2_col3\" class=\"data row2 col3\" >-0.109602</td>\n            </tr>\n            <tr>\n                        <th id=\"T_b3efad79_c1c5_11eb_98ac_18dbf209aa11level0_row3\" class=\"row_heading level0 row3\" >salesrank_value</th>\n                        <td id=\"T_b3efad79_c1c5_11eb_98ac_18dbf209aa11row3_col0\" class=\"data row3 col0\" >-0.016917</td>\n                        <td id=\"T_b3efad79_c1c5_11eb_98ac_18dbf209aa11row3_col1\" class=\"data row3 col1\" >0.053198</td>\n                        <td id=\"T_b3efad79_c1c5_11eb_98ac_18dbf209aa11row3_col2\" class=\"data row3 col2\" >-0.109602</td>\n                        <td id=\"T_b3efad79_c1c5_11eb_98ac_18dbf209aa11row3_col3\" class=\"data row3 col3\" >1.000000</td>\n            </tr>\n    </tbody></table>"
     },
     "metadata": {},
     "execution_count": 9
    }
   ],
   "source": [
    "# Correlation Matrix\n",
    "corr = merge.corr()\n",
    "corr.style.background_gradient()"
   ]
  },
  {
   "source": [
    "<hr><h3>3) Is there a relationship between price and reviews?</h3><hr>"
   ],
   "cell_type": "markdown",
   "metadata": {}
  },
  {
   "cell_type": "code",
   "execution_count": 39,
   "metadata": {},
   "outputs": [
    {
     "output_type": "execute_result",
     "data": {
      "text/plain": [
       "<pandas.io.formats.style.Styler at 0x17077fdec10>"
      ],
      "text/html": "<style  type=\"text/css\" >\n#T_3adb3097_c1c7_11eb_b557_18dbf209aa11row0_col0,#T_3adb3097_c1c7_11eb_b557_18dbf209aa11row1_col1{\n            background-color:  #023858;\n            color:  #f1f1f1;\n        }#T_3adb3097_c1c7_11eb_b557_18dbf209aa11row0_col1,#T_3adb3097_c1c7_11eb_b557_18dbf209aa11row1_col0{\n            background-color:  #fff7fb;\n            color:  #000000;\n        }</style><table id=\"T_3adb3097_c1c7_11eb_b557_18dbf209aa11\" ><thead>    <tr>        <th class=\"blank level0\" ></th>        <th class=\"col_heading level0 col0\" >price</th>        <th class=\"col_heading level0 col1\" >overall</th>    </tr></thead><tbody>\n                <tr>\n                        <th id=\"T_3adb3097_c1c7_11eb_b557_18dbf209aa11level0_row0\" class=\"row_heading level0 row0\" >price</th>\n                        <td id=\"T_3adb3097_c1c7_11eb_b557_18dbf209aa11row0_col0\" class=\"data row0 col0\" >1.000000</td>\n                        <td id=\"T_3adb3097_c1c7_11eb_b557_18dbf209aa11row0_col1\" class=\"data row0 col1\" >0.004370</td>\n            </tr>\n            <tr>\n                        <th id=\"T_3adb3097_c1c7_11eb_b557_18dbf209aa11level0_row1\" class=\"row_heading level0 row1\" >overall</th>\n                        <td id=\"T_3adb3097_c1c7_11eb_b557_18dbf209aa11row1_col0\" class=\"data row1 col0\" >0.004370</td>\n                        <td id=\"T_3adb3097_c1c7_11eb_b557_18dbf209aa11row1_col1\" class=\"data row1 col1\" >1.000000</td>\n            </tr>\n    </tbody></table>"
     },
     "metadata": {},
     "execution_count": 39
    }
   ],
   "source": [
    "corr = merge[['price','overall']].corr(method='pearson')\n",
    "corr.style.background_gradient()"
   ]
  },
  {
   "cell_type": "code",
   "execution_count": 61,
   "metadata": {},
   "outputs": [
    {
     "output_type": "execute_result",
     "data": {
      "text/plain": [
       "file\n",
       "reviews_Books_5.csv            0.005199\n",
       "reviews_Electronics_5.csv      0.009020\n",
       "reviews_Movies_and_TV_5.csv    0.064235\n",
       "Name: (price, overall), dtype: float64"
      ]
     },
     "metadata": {},
     "execution_count": 61
    }
   ],
   "source": [
    "# correlation by group of products\n",
    "merge.groupby('file')[['price','overall']].corr(method='pearson').unstack().iloc[:,1]"
   ]
  },
  {
   "cell_type": "code",
   "execution_count": 11,
   "metadata": {},
   "outputs": [
    {
     "output_type": "execute_result",
     "data": {
      "text/plain": [
       "<pandas.io.formats.style.Styler at 0x17072de4c70>"
      ],
      "text/html": "<style  type=\"text/css\" >\n#T_b8ea7f81_c1c5_11eb_ba91_18dbf209aa11row0_col0,#T_b8ea7f81_c1c5_11eb_ba91_18dbf209aa11row1_col1{\n            background-color:  #023858;\n            color:  #f1f1f1;\n        }#T_b8ea7f81_c1c5_11eb_ba91_18dbf209aa11row0_col1,#T_b8ea7f81_c1c5_11eb_ba91_18dbf209aa11row1_col0{\n            background-color:  #fff7fb;\n            color:  #000000;\n        }</style><table id=\"T_b8ea7f81_c1c5_11eb_ba91_18dbf209aa11\" ><thead>    <tr>        <th class=\"blank level0\" ></th>        <th class=\"col_heading level0 col0\" >price</th>        <th class=\"col_heading level0 col1\" >overall</th>    </tr></thead><tbody>\n                <tr>\n                        <th id=\"T_b8ea7f81_c1c5_11eb_ba91_18dbf209aa11level0_row0\" class=\"row_heading level0 row0\" >price</th>\n                        <td id=\"T_b8ea7f81_c1c5_11eb_ba91_18dbf209aa11row0_col0\" class=\"data row0 col0\" >1.000000</td>\n                        <td id=\"T_b8ea7f81_c1c5_11eb_ba91_18dbf209aa11row0_col1\" class=\"data row0 col1\" >0.002050</td>\n            </tr>\n            <tr>\n                        <th id=\"T_b8ea7f81_c1c5_11eb_ba91_18dbf209aa11level0_row1\" class=\"row_heading level0 row1\" >overall</th>\n                        <td id=\"T_b8ea7f81_c1c5_11eb_ba91_18dbf209aa11row1_col0\" class=\"data row1 col0\" >0.002050</td>\n                        <td id=\"T_b8ea7f81_c1c5_11eb_ba91_18dbf209aa11row1_col1\" class=\"data row1 col1\" >1.000000</td>\n            </tr>\n    </tbody></table>"
     },
     "metadata": {},
     "execution_count": 11
    }
   ],
   "source": [
    "corr = merge[['price','overall']].corr(method='spearman')\n",
    "corr.style.background_gradient()"
   ]
  },
  {
   "cell_type": "code",
   "execution_count": 48,
   "metadata": {},
   "outputs": [
    {
     "output_type": "execute_result",
     "data": {
      "text/plain": [
       "file\n",
       "reviews_Books_5.csv           -0.000627\n",
       "reviews_Electronics_5.csv     -0.027847\n",
       "reviews_Movies_and_TV_5.csv    0.065654\n",
       "Name: (price, overall), dtype: float64"
      ]
     },
     "metadata": {},
     "execution_count": 48
    }
   ],
   "source": [
    "# correlation by group of products\n",
    "merge.groupby('file')[['price','overall']].corr(method='spearman').unstack().iloc[:,1]"
   ]
  },
  {
   "source": [
    "<hr><h3>5) Is there a relation between reviews from products which are bought together?</h3><hr>"
   ],
   "cell_type": "markdown",
   "metadata": {}
  },
  {
   "cell_type": "code",
   "execution_count": 52,
   "metadata": {},
   "outputs": [],
   "source": [
    "metadata_related.rename(columns = {'asin_prod': 'asin'}, inplace = True)"
   ]
  },
  {
   "cell_type": "code",
   "execution_count": 53,
   "metadata": {},
   "outputs": [],
   "source": [
    "metadata_related_join = pd.merge(metadata,metadata_related, on=\"asin\", how=\"inner\")"
   ]
  },
  {
   "cell_type": "code",
   "execution_count": 55,
   "metadata": {},
   "outputs": [
    {
     "output_type": "execute_result",
     "data": {
      "text/plain": [
       "<pandas.io.formats.style.Styler at 0x170774ee9a0>"
      ],
      "text/html": "<style  type=\"text/css\" >\n#T_435fc156_c1c8_11eb_b9d4_18dbf209aa11row0_col0,#T_435fc156_c1c8_11eb_b9d4_18dbf209aa11row1_col1{\n            background-color:  #023858;\n            color:  #f1f1f1;\n        }#T_435fc156_c1c8_11eb_b9d4_18dbf209aa11row0_col1,#T_435fc156_c1c8_11eb_b9d4_18dbf209aa11row1_col0{\n            background-color:  #fff7fb;\n            color:  #000000;\n        }</style><table id=\"T_435fc156_c1c8_11eb_b9d4_18dbf209aa11\" ><thead>    <tr>        <th class=\"blank level0\" ></th>        <th class=\"col_heading level0 col0\" >overall_prod</th>        <th class=\"col_heading level0 col1\" >overall_bought_together</th>    </tr></thead><tbody>\n                <tr>\n                        <th id=\"T_435fc156_c1c8_11eb_b9d4_18dbf209aa11level0_row0\" class=\"row_heading level0 row0\" >overall_prod</th>\n                        <td id=\"T_435fc156_c1c8_11eb_b9d4_18dbf209aa11row0_col0\" class=\"data row0 col0\" >1.000000</td>\n                        <td id=\"T_435fc156_c1c8_11eb_b9d4_18dbf209aa11row0_col1\" class=\"data row0 col1\" >0.197802</td>\n            </tr>\n            <tr>\n                        <th id=\"T_435fc156_c1c8_11eb_b9d4_18dbf209aa11level0_row1\" class=\"row_heading level0 row1\" >overall_bought_together</th>\n                        <td id=\"T_435fc156_c1c8_11eb_b9d4_18dbf209aa11row1_col0\" class=\"data row1 col0\" >0.197802</td>\n                        <td id=\"T_435fc156_c1c8_11eb_b9d4_18dbf209aa11row1_col1\" class=\"data row1 col1\" >1.000000</td>\n            </tr>\n    </tbody></table>"
     },
     "metadata": {},
     "execution_count": 55
    }
   ],
   "source": [
    "corr = metadata_related[['overall_prod','overall_bought_together']].corr(method='pearson')\n",
    "corr.style.background_gradient()"
   ]
  },
  {
   "cell_type": "code",
   "execution_count": 56,
   "metadata": {},
   "outputs": [
    {
     "output_type": "execute_result",
     "data": {
      "text/plain": [
       "file\n",
       "reviews_Books_5.csv            0.185315\n",
       "reviews_Electronics_5.csv      0.131910\n",
       "reviews_Movies_and_TV_5.csv    0.278140\n",
       "Name: (overall_prod, overall_bought_together), dtype: float64"
      ]
     },
     "metadata": {},
     "execution_count": 56
    }
   ],
   "source": [
    "# pearson correlation by product group\n",
    "metadata_related_join.groupby('file')[['overall_prod','overall_bought_together']].corr(method='pearson').unstack().iloc[:,1]"
   ]
  },
  {
   "cell_type": "code",
   "execution_count": 13,
   "metadata": {},
   "outputs": [
    {
     "output_type": "execute_result",
     "data": {
      "text/plain": [
       "<pandas.io.formats.style.Styler at 0x17019d46460>"
      ],
      "text/html": "<style  type=\"text/css\" >\n#T_b93cace9_c1c5_11eb_a3f0_18dbf209aa11row0_col0,#T_b93cace9_c1c5_11eb_a3f0_18dbf209aa11row1_col1{\n            background-color:  #023858;\n            color:  #f1f1f1;\n        }#T_b93cace9_c1c5_11eb_a3f0_18dbf209aa11row0_col1,#T_b93cace9_c1c5_11eb_a3f0_18dbf209aa11row1_col0{\n            background-color:  #fff7fb;\n            color:  #000000;\n        }</style><table id=\"T_b93cace9_c1c5_11eb_a3f0_18dbf209aa11\" ><thead>    <tr>        <th class=\"blank level0\" ></th>        <th class=\"col_heading level0 col0\" >overall_prod</th>        <th class=\"col_heading level0 col1\" >overall_bought_together</th>    </tr></thead><tbody>\n                <tr>\n                        <th id=\"T_b93cace9_c1c5_11eb_a3f0_18dbf209aa11level0_row0\" class=\"row_heading level0 row0\" >overall_prod</th>\n                        <td id=\"T_b93cace9_c1c5_11eb_a3f0_18dbf209aa11row0_col0\" class=\"data row0 col0\" >1.000000</td>\n                        <td id=\"T_b93cace9_c1c5_11eb_a3f0_18dbf209aa11row0_col1\" class=\"data row0 col1\" >0.214458</td>\n            </tr>\n            <tr>\n                        <th id=\"T_b93cace9_c1c5_11eb_a3f0_18dbf209aa11level0_row1\" class=\"row_heading level0 row1\" >overall_bought_together</th>\n                        <td id=\"T_b93cace9_c1c5_11eb_a3f0_18dbf209aa11row1_col0\" class=\"data row1 col0\" >0.214458</td>\n                        <td id=\"T_b93cace9_c1c5_11eb_a3f0_18dbf209aa11row1_col1\" class=\"data row1 col1\" >1.000000</td>\n            </tr>\n    </tbody></table>"
     },
     "metadata": {},
     "execution_count": 13
    }
   ],
   "source": [
    "corr = metadata_related[['overall_prod','overall_bought_together']].corr(method='spearman')\n",
    "corr.style.background_gradient()"
   ]
  },
  {
   "cell_type": "code",
   "execution_count": 57,
   "metadata": {},
   "outputs": [
    {
     "output_type": "execute_result",
     "data": {
      "text/plain": [
       "file\n",
       "reviews_Books_5.csv            0.205445\n",
       "reviews_Electronics_5.csv      0.148525\n",
       "reviews_Movies_and_TV_5.csv    0.285696\n",
       "Name: (overall_prod, overall_bought_together), dtype: float64"
      ]
     },
     "metadata": {},
     "execution_count": 57
    }
   ],
   "source": [
    "# spearman correlation by product group\n",
    "metadata_related_join.groupby('file')[['overall_prod','overall_bought_together']].corr(method='spearman').unstack().iloc[:,1]"
   ]
  },
  {
   "cell_type": "code",
   "execution_count": null,
   "metadata": {},
   "outputs": [],
   "source": []
  }
 ]
}