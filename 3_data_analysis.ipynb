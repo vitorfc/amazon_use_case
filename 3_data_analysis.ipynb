{
 "metadata": {
  "language_info": {
   "codemirror_mode": {
    "name": "ipython",
    "version": 3
   },
   "file_extension": ".py",
   "mimetype": "text/x-python",
   "name": "python",
   "nbconvert_exporter": "python",
   "pygments_lexer": "ipython3",
   "version": "3.8.5"
  },
  "orig_nbformat": 2,
  "kernelspec": {
   "name": "python385jvsc74a57bd06d4093bf0d82cf9d7cbff82fec796d9e3de98a5c49021a907317f555ca0caf40",
   "display_name": "Python 3.8.5 64-bit ('base': conda)"
  }
 },
 "nbformat": 4,
 "nbformat_minor": 2,
 "cells": [
  {
   "source": [
    "# DATA ANALYSIS - AMAZON REVIEWS\n",
    "____\n",
    "by Vitor Flisch Cavalanti<br>\n",
    "May 2021\n",
    "\n",
    "<b>Case study Sr. Business Analyst</b>\n",
    "\n",
    "Please present your analysis and actionable insights, as if you were to present to the management of Amazon. The \"Actionable business insights\" should be based on data, an example of an analytical approach is as follows:\n",
    " \n",
    "1) What is the relation between the reviews and the helpfulness?<br>\n",
    "2) What is the review behavior among different categories?<br>\n",
    "3) Is there a relationship between price and reviews?<br>\n",
    "4) Which group of reviewers is more valuable to the business?<br>\n",
    "5) Is there a relation between reviews from products which are bought together?<br>\n",
    "6) Optional - Any other hypothesis you think is interesting, as long it would have business value for Amazon"
   ],
   "cell_type": "markdown",
   "metadata": {}
  },
  {
   "cell_type": "code",
   "execution_count": 1,
   "metadata": {},
   "outputs": [],
   "source": [
    "import pandas as pd\n",
    "import numpy as np \n",
    "import matplotlib.pyplot as plt"
   ]
  },
  {
   "cell_type": "code",
   "execution_count": 2,
   "metadata": {},
   "outputs": [],
   "source": [
    "# read reviews\n",
    "reviews = pd.read_csv(\"../exports/final/reviews_concatenated.csv\")"
   ]
  },
  {
   "cell_type": "code",
   "execution_count": 3,
   "metadata": {},
   "outputs": [],
   "source": [
    "# read metadata\n",
    "metadata = pd.read_csv(\"../exports/final/metadata_final.csv\")"
   ]
  },
  {
   "cell_type": "code",
   "execution_count": 4,
   "metadata": {},
   "outputs": [],
   "source": [
    "# read metadata_related\n",
    "metadata_related = pd.read_csv(\"../exports/final/metadata_related.csv\")"
   ]
  },
  {
   "cell_type": "code",
   "execution_count": 5,
   "metadata": {},
   "outputs": [],
   "source": [
    "merge = pd.merge(reviews, metadata, on=\"asin\", how=\"inner\")"
   ]
  },
  {
   "source": [
    "<hr><h3>1) What is the relation between the reviews and the helpfulness?</h3><hr>"
   ],
   "cell_type": "markdown",
   "metadata": {}
  },
  {
   "cell_type": "code",
   "execution_count": 6,
   "metadata": {},
   "outputs": [
    {
     "output_type": "execute_result",
     "data": {
      "text/plain": [
       "<pandas.io.formats.style.Styler at 0x25d8dd1b070>"
      ],
      "text/html": "<style  type=\"text/css\" >\n#T_a219e22d_c197_11eb_af1d_18dbf209aa11row0_col0,#T_a219e22d_c197_11eb_af1d_18dbf209aa11row1_col1{\n            background-color:  #023858;\n            color:  #f1f1f1;\n        }#T_a219e22d_c197_11eb_af1d_18dbf209aa11row0_col1,#T_a219e22d_c197_11eb_af1d_18dbf209aa11row1_col0{\n            background-color:  #fff7fb;\n            color:  #000000;\n        }</style><table id=\"T_a219e22d_c197_11eb_af1d_18dbf209aa11\" ><thead>    <tr>        <th class=\"blank level0\" ></th>        <th class=\"col_heading level0 col0\" >helpful_score</th>        <th class=\"col_heading level0 col1\" >overall</th>    </tr></thead><tbody>\n                <tr>\n                        <th id=\"T_a219e22d_c197_11eb_af1d_18dbf209aa11level0_row0\" class=\"row_heading level0 row0\" >helpful_score</th>\n                        <td id=\"T_a219e22d_c197_11eb_af1d_18dbf209aa11row0_col0\" class=\"data row0 col0\" >1.000000</td>\n                        <td id=\"T_a219e22d_c197_11eb_af1d_18dbf209aa11row0_col1\" class=\"data row0 col1\" >0.289697</td>\n            </tr>\n            <tr>\n                        <th id=\"T_a219e22d_c197_11eb_af1d_18dbf209aa11level0_row1\" class=\"row_heading level0 row1\" >overall</th>\n                        <td id=\"T_a219e22d_c197_11eb_af1d_18dbf209aa11row1_col0\" class=\"data row1 col0\" >0.289697</td>\n                        <td id=\"T_a219e22d_c197_11eb_af1d_18dbf209aa11row1_col1\" class=\"data row1 col1\" >1.000000</td>\n            </tr>\n    </tbody></table>"
     },
     "metadata": {},
     "execution_count": 6
    }
   ],
   "source": [
    "corr = reviews[~reviews.helpful_score.isna()][['helpful_score','overall']].corr(method='pearson')\n",
    "corr.style.background_gradient()"
   ]
  },
  {
   "cell_type": "code",
   "execution_count": 7,
   "metadata": {},
   "outputs": [
    {
     "output_type": "execute_result",
     "data": {
      "text/plain": [
       "<pandas.io.formats.style.Styler at 0x25d9bb667f0>"
      ],
      "text/html": "<style  type=\"text/css\" >\n#T_a40ea41c_c197_11eb_b7e0_18dbf209aa11row0_col0,#T_a40ea41c_c197_11eb_b7e0_18dbf209aa11row1_col1{\n            background-color:  #023858;\n            color:  #f1f1f1;\n        }#T_a40ea41c_c197_11eb_b7e0_18dbf209aa11row0_col1,#T_a40ea41c_c197_11eb_b7e0_18dbf209aa11row1_col0{\n            background-color:  #fff7fb;\n            color:  #000000;\n        }</style><table id=\"T_a40ea41c_c197_11eb_b7e0_18dbf209aa11\" ><thead>    <tr>        <th class=\"blank level0\" ></th>        <th class=\"col_heading level0 col0\" >helpful_score</th>        <th class=\"col_heading level0 col1\" >overall</th>    </tr></thead><tbody>\n                <tr>\n                        <th id=\"T_a40ea41c_c197_11eb_b7e0_18dbf209aa11level0_row0\" class=\"row_heading level0 row0\" >helpful_score</th>\n                        <td id=\"T_a40ea41c_c197_11eb_b7e0_18dbf209aa11row0_col0\" class=\"data row0 col0\" >1.000000</td>\n                        <td id=\"T_a40ea41c_c197_11eb_b7e0_18dbf209aa11row0_col1\" class=\"data row0 col1\" >0.284162</td>\n            </tr>\n            <tr>\n                        <th id=\"T_a40ea41c_c197_11eb_b7e0_18dbf209aa11level0_row1\" class=\"row_heading level0 row1\" >overall</th>\n                        <td id=\"T_a40ea41c_c197_11eb_b7e0_18dbf209aa11row1_col0\" class=\"data row1 col0\" >0.284162</td>\n                        <td id=\"T_a40ea41c_c197_11eb_b7e0_18dbf209aa11row1_col1\" class=\"data row1 col1\" >1.000000</td>\n            </tr>\n    </tbody></table>"
     },
     "metadata": {},
     "execution_count": 7
    }
   ],
   "source": [
    "corr = reviews[~reviews.helpful_score.isna()][['helpful_score','overall']].corr(method='spearman')\n",
    "corr.style.background_gradient()"
   ]
  },
  {
   "cell_type": "code",
   "execution_count": 8,
   "metadata": {},
   "outputs": [],
   "source": [
    "# Removing unused columns\n",
    "merge.drop([\"Unnamed: 0_x\",\"Unnamed: 0.1_x\",\"Unnamed: 0_y\",\"Unnamed: 0.1_y\"], axis=\"columns\", inplace=True)"
   ]
  },
  {
   "cell_type": "code",
   "execution_count": 9,
   "metadata": {},
   "outputs": [
    {
     "output_type": "execute_result",
     "data": {
      "text/plain": [
       "<pandas.io.formats.style.Styler at 0x25d8dcd2c10>"
      ],
      "text/html": "<style  type=\"text/css\" >\n#T_a8f05c9c_c197_11eb_af96_18dbf209aa11row0_col0,#T_a8f05c9c_c197_11eb_af96_18dbf209aa11row1_col1,#T_a8f05c9c_c197_11eb_af96_18dbf209aa11row2_col2,#T_a8f05c9c_c197_11eb_af96_18dbf209aa11row3_col3{\n            background-color:  #023858;\n            color:  #f1f1f1;\n        }#T_a8f05c9c_c197_11eb_af96_18dbf209aa11row0_col1{\n            background-color:  #c2cbe2;\n            color:  #000000;\n        }#T_a8f05c9c_c197_11eb_af96_18dbf209aa11row0_col2{\n            background-color:  #e0dded;\n            color:  #000000;\n        }#T_a8f05c9c_c197_11eb_af96_18dbf209aa11row0_col3{\n            background-color:  #ede7f2;\n            color:  #000000;\n        }#T_a8f05c9c_c197_11eb_af96_18dbf209aa11row1_col0{\n            background-color:  #bcc7e1;\n            color:  #000000;\n        }#T_a8f05c9c_c197_11eb_af96_18dbf209aa11row1_col2{\n            background-color:  #dad9ea;\n            color:  #000000;\n        }#T_a8f05c9c_c197_11eb_af96_18dbf209aa11row1_col3{\n            background-color:  #e7e3f0;\n            color:  #000000;\n        }#T_a8f05c9c_c197_11eb_af96_18dbf209aa11row2_col0,#T_a8f05c9c_c197_11eb_af96_18dbf209aa11row2_col1{\n            background-color:  #f5eff6;\n            color:  #000000;\n        }#T_a8f05c9c_c197_11eb_af96_18dbf209aa11row2_col3,#T_a8f05c9c_c197_11eb_af96_18dbf209aa11row3_col0,#T_a8f05c9c_c197_11eb_af96_18dbf209aa11row3_col1,#T_a8f05c9c_c197_11eb_af96_18dbf209aa11row3_col2{\n            background-color:  #fff7fb;\n            color:  #000000;\n        }</style><table id=\"T_a8f05c9c_c197_11eb_af96_18dbf209aa11\" ><thead>    <tr>        <th class=\"blank level0\" ></th>        <th class=\"col_heading level0 col0\" >overall</th>        <th class=\"col_heading level0 col1\" >helpful_score</th>        <th class=\"col_heading level0 col2\" >price</th>        <th class=\"col_heading level0 col3\" >salesrank_value</th>    </tr></thead><tbody>\n                <tr>\n                        <th id=\"T_a8f05c9c_c197_11eb_af96_18dbf209aa11level0_row0\" class=\"row_heading level0 row0\" >overall</th>\n                        <td id=\"T_a8f05c9c_c197_11eb_af96_18dbf209aa11row0_col0\" class=\"data row0 col0\" >1.000000</td>\n                        <td id=\"T_a8f05c9c_c197_11eb_af96_18dbf209aa11row0_col1\" class=\"data row0 col1\" >0.289697</td>\n                        <td id=\"T_a8f05c9c_c197_11eb_af96_18dbf209aa11row0_col2\" class=\"data row0 col2\" >0.034834</td>\n                        <td id=\"T_a8f05c9c_c197_11eb_af96_18dbf209aa11row0_col3\" class=\"data row0 col3\" >-0.032569</td>\n            </tr>\n            <tr>\n                        <th id=\"T_a8f05c9c_c197_11eb_af96_18dbf209aa11level0_row1\" class=\"row_heading level0 row1\" >helpful_score</th>\n                        <td id=\"T_a8f05c9c_c197_11eb_af96_18dbf209aa11row1_col0\" class=\"data row1 col0\" >0.289697</td>\n                        <td id=\"T_a8f05c9c_c197_11eb_af96_18dbf209aa11row1_col1\" class=\"data row1 col1\" >1.000000</td>\n                        <td id=\"T_a8f05c9c_c197_11eb_af96_18dbf209aa11row1_col2\" class=\"data row1 col2\" >0.062004</td>\n                        <td id=\"T_a8f05c9c_c197_11eb_af96_18dbf209aa11row1_col3\" class=\"data row1 col3\" >-0.001457</td>\n            </tr>\n            <tr>\n                        <th id=\"T_a8f05c9c_c197_11eb_af96_18dbf209aa11level0_row2\" class=\"row_heading level0 row2\" >price</th>\n                        <td id=\"T_a8f05c9c_c197_11eb_af96_18dbf209aa11row2_col0\" class=\"data row2 col0\" >0.034834</td>\n                        <td id=\"T_a8f05c9c_c197_11eb_af96_18dbf209aa11row2_col1\" class=\"data row2 col1\" >0.062004</td>\n                        <td id=\"T_a8f05c9c_c197_11eb_af96_18dbf209aa11row2_col2\" class=\"data row2 col2\" >1.000000</td>\n                        <td id=\"T_a8f05c9c_c197_11eb_af96_18dbf209aa11row2_col3\" class=\"data row2 col3\" >-0.178511</td>\n            </tr>\n            <tr>\n                        <th id=\"T_a8f05c9c_c197_11eb_af96_18dbf209aa11level0_row3\" class=\"row_heading level0 row3\" >salesrank_value</th>\n                        <td id=\"T_a8f05c9c_c197_11eb_af96_18dbf209aa11row3_col0\" class=\"data row3 col0\" >-0.032569</td>\n                        <td id=\"T_a8f05c9c_c197_11eb_af96_18dbf209aa11row3_col1\" class=\"data row3 col1\" >-0.001457</td>\n                        <td id=\"T_a8f05c9c_c197_11eb_af96_18dbf209aa11row3_col2\" class=\"data row3 col2\" >-0.178511</td>\n                        <td id=\"T_a8f05c9c_c197_11eb_af96_18dbf209aa11row3_col3\" class=\"data row3 col3\" >1.000000</td>\n            </tr>\n    </tbody></table>"
     },
     "metadata": {},
     "execution_count": 9
    }
   ],
   "source": [
    "# Correlation Matrix\n",
    "corr = merge.corr()\n",
    "corr.style.background_gradient()"
   ]
  },
  {
   "source": [
    "<hr><h3>3) Is there a relationship between price and reviews?</h3><hr>"
   ],
   "cell_type": "markdown",
   "metadata": {}
  },
  {
   "cell_type": "code",
   "execution_count": 10,
   "metadata": {},
   "outputs": [
    {
     "output_type": "execute_result",
     "data": {
      "text/plain": [
       "<pandas.io.formats.style.Styler at 0x25d8dcd2f70>"
      ],
      "text/html": "<style  type=\"text/css\" >\n#T_b138e907_c197_11eb_b49f_18dbf209aa11row0_col0,#T_b138e907_c197_11eb_b49f_18dbf209aa11row1_col1{\n            background-color:  #023858;\n            color:  #f1f1f1;\n        }#T_b138e907_c197_11eb_b49f_18dbf209aa11row0_col1,#T_b138e907_c197_11eb_b49f_18dbf209aa11row1_col0{\n            background-color:  #fff7fb;\n            color:  #000000;\n        }</style><table id=\"T_b138e907_c197_11eb_b49f_18dbf209aa11\" ><thead>    <tr>        <th class=\"blank level0\" ></th>        <th class=\"col_heading level0 col0\" >price</th>        <th class=\"col_heading level0 col1\" >overall</th>    </tr></thead><tbody>\n                <tr>\n                        <th id=\"T_b138e907_c197_11eb_b49f_18dbf209aa11level0_row0\" class=\"row_heading level0 row0\" >price</th>\n                        <td id=\"T_b138e907_c197_11eb_b49f_18dbf209aa11row0_col0\" class=\"data row0 col0\" >1.000000</td>\n                        <td id=\"T_b138e907_c197_11eb_b49f_18dbf209aa11row0_col1\" class=\"data row0 col1\" >0.034834</td>\n            </tr>\n            <tr>\n                        <th id=\"T_b138e907_c197_11eb_b49f_18dbf209aa11level0_row1\" class=\"row_heading level0 row1\" >overall</th>\n                        <td id=\"T_b138e907_c197_11eb_b49f_18dbf209aa11row1_col0\" class=\"data row1 col0\" >0.034834</td>\n                        <td id=\"T_b138e907_c197_11eb_b49f_18dbf209aa11row1_col1\" class=\"data row1 col1\" >1.000000</td>\n            </tr>\n    </tbody></table>"
     },
     "metadata": {},
     "execution_count": 10
    }
   ],
   "source": [
    "corr = merge[['price','overall']].corr(method='pearson')\n",
    "corr.style.background_gradient()"
   ]
  },
  {
   "cell_type": "code",
   "execution_count": 11,
   "metadata": {},
   "outputs": [
    {
     "output_type": "execute_result",
     "data": {
      "text/plain": [
       "<pandas.io.formats.style.Styler at 0x25d8dcd2ee0>"
      ],
      "text/html": "<style  type=\"text/css\" >\n#T_b3ca54ee_c197_11eb_88bd_18dbf209aa11row0_col0,#T_b3ca54ee_c197_11eb_88bd_18dbf209aa11row1_col1{\n            background-color:  #023858;\n            color:  #f1f1f1;\n        }#T_b3ca54ee_c197_11eb_88bd_18dbf209aa11row0_col1,#T_b3ca54ee_c197_11eb_88bd_18dbf209aa11row1_col0{\n            background-color:  #fff7fb;\n            color:  #000000;\n        }</style><table id=\"T_b3ca54ee_c197_11eb_88bd_18dbf209aa11\" ><thead>    <tr>        <th class=\"blank level0\" ></th>        <th class=\"col_heading level0 col0\" >price</th>        <th class=\"col_heading level0 col1\" >overall</th>    </tr></thead><tbody>\n                <tr>\n                        <th id=\"T_b3ca54ee_c197_11eb_88bd_18dbf209aa11level0_row0\" class=\"row_heading level0 row0\" >price</th>\n                        <td id=\"T_b3ca54ee_c197_11eb_88bd_18dbf209aa11row0_col0\" class=\"data row0 col0\" >1.000000</td>\n                        <td id=\"T_b3ca54ee_c197_11eb_88bd_18dbf209aa11row0_col1\" class=\"data row0 col1\" >0.052551</td>\n            </tr>\n            <tr>\n                        <th id=\"T_b3ca54ee_c197_11eb_88bd_18dbf209aa11level0_row1\" class=\"row_heading level0 row1\" >overall</th>\n                        <td id=\"T_b3ca54ee_c197_11eb_88bd_18dbf209aa11row1_col0\" class=\"data row1 col0\" >0.052551</td>\n                        <td id=\"T_b3ca54ee_c197_11eb_88bd_18dbf209aa11row1_col1\" class=\"data row1 col1\" >1.000000</td>\n            </tr>\n    </tbody></table>"
     },
     "metadata": {},
     "execution_count": 11
    }
   ],
   "source": [
    "corr = merge[['price','overall']].corr(method='spearman')\n",
    "corr.style.background_gradient()"
   ]
  },
  {
   "source": [
    "<hr><h3>5) Is there a relation between reviews from products which are bought together?</h3><hr>"
   ],
   "cell_type": "markdown",
   "metadata": {}
  },
  {
   "cell_type": "code",
   "execution_count": 12,
   "metadata": {},
   "outputs": [
    {
     "output_type": "execute_result",
     "data": {
      "text/plain": [
       "<pandas.io.formats.style.Styler at 0x25d8dd1b0a0>"
      ],
      "text/html": "<style  type=\"text/css\" >\n#T_b778a47e_c197_11eb_bf3f_18dbf209aa11row0_col0,#T_b778a47e_c197_11eb_bf3f_18dbf209aa11row1_col1{\n            background-color:  #023858;\n            color:  #f1f1f1;\n        }#T_b778a47e_c197_11eb_bf3f_18dbf209aa11row0_col1,#T_b778a47e_c197_11eb_bf3f_18dbf209aa11row1_col0{\n            background-color:  #fff7fb;\n            color:  #000000;\n        }</style><table id=\"T_b778a47e_c197_11eb_bf3f_18dbf209aa11\" ><thead>    <tr>        <th class=\"blank level0\" ></th>        <th class=\"col_heading level0 col0\" >overall_prod</th>        <th class=\"col_heading level0 col1\" >overall_bought_together</th>    </tr></thead><tbody>\n                <tr>\n                        <th id=\"T_b778a47e_c197_11eb_bf3f_18dbf209aa11level0_row0\" class=\"row_heading level0 row0\" >overall_prod</th>\n                        <td id=\"T_b778a47e_c197_11eb_bf3f_18dbf209aa11row0_col0\" class=\"data row0 col0\" >1.000000</td>\n                        <td id=\"T_b778a47e_c197_11eb_bf3f_18dbf209aa11row0_col1\" class=\"data row0 col1\" >0.219566</td>\n            </tr>\n            <tr>\n                        <th id=\"T_b778a47e_c197_11eb_bf3f_18dbf209aa11level0_row1\" class=\"row_heading level0 row1\" >overall_bought_together</th>\n                        <td id=\"T_b778a47e_c197_11eb_bf3f_18dbf209aa11row1_col0\" class=\"data row1 col0\" >0.219566</td>\n                        <td id=\"T_b778a47e_c197_11eb_bf3f_18dbf209aa11row1_col1\" class=\"data row1 col1\" >1.000000</td>\n            </tr>\n    </tbody></table>"
     },
     "metadata": {},
     "execution_count": 12
    }
   ],
   "source": [
    "corr = metadata_related[['overall_prod','overall_bought_together']].corr(method='pearson')\n",
    "corr.style.background_gradient()"
   ]
  },
  {
   "cell_type": "code",
   "execution_count": 13,
   "metadata": {},
   "outputs": [
    {
     "output_type": "execute_result",
     "data": {
      "text/plain": [
       "<pandas.io.formats.style.Styler at 0x25d92130e20>"
      ],
      "text/html": "<style  type=\"text/css\" >\n#T_b8c65f27_c197_11eb_b6ac_18dbf209aa11row0_col0,#T_b8c65f27_c197_11eb_b6ac_18dbf209aa11row1_col1{\n            background-color:  #023858;\n            color:  #f1f1f1;\n        }#T_b8c65f27_c197_11eb_b6ac_18dbf209aa11row0_col1,#T_b8c65f27_c197_11eb_b6ac_18dbf209aa11row1_col0{\n            background-color:  #fff7fb;\n            color:  #000000;\n        }</style><table id=\"T_b8c65f27_c197_11eb_b6ac_18dbf209aa11\" ><thead>    <tr>        <th class=\"blank level0\" ></th>        <th class=\"col_heading level0 col0\" >overall_prod</th>        <th class=\"col_heading level0 col1\" >overall_bought_together</th>    </tr></thead><tbody>\n                <tr>\n                        <th id=\"T_b8c65f27_c197_11eb_b6ac_18dbf209aa11level0_row0\" class=\"row_heading level0 row0\" >overall_prod</th>\n                        <td id=\"T_b8c65f27_c197_11eb_b6ac_18dbf209aa11row0_col0\" class=\"data row0 col0\" >1.000000</td>\n                        <td id=\"T_b8c65f27_c197_11eb_b6ac_18dbf209aa11row0_col1\" class=\"data row0 col1\" >0.230191</td>\n            </tr>\n            <tr>\n                        <th id=\"T_b8c65f27_c197_11eb_b6ac_18dbf209aa11level0_row1\" class=\"row_heading level0 row1\" >overall_bought_together</th>\n                        <td id=\"T_b8c65f27_c197_11eb_b6ac_18dbf209aa11row1_col0\" class=\"data row1 col0\" >0.230191</td>\n                        <td id=\"T_b8c65f27_c197_11eb_b6ac_18dbf209aa11row1_col1\" class=\"data row1 col1\" >1.000000</td>\n            </tr>\n    </tbody></table>"
     },
     "metadata": {},
     "execution_count": 13
    }
   ],
   "source": [
    "corr = metadata_related[['overall_prod','overall_bought_together']].corr(method='spearman')\n",
    "corr.style.background_gradient()"
   ]
  },
  {
   "cell_type": "code",
   "execution_count": null,
   "metadata": {},
   "outputs": [],
   "source": []
  }
 ]
}