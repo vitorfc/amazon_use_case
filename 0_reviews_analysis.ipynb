{
 "metadata": {
  "language_info": {
   "codemirror_mode": {
    "name": "ipython",
    "version": 3
   },
   "file_extension": ".py",
   "mimetype": "text/x-python",
   "name": "python",
   "nbconvert_exporter": "python",
   "pygments_lexer": "ipython3",
   "version": "3.8.5"
  },
  "orig_nbformat": 2,
  "kernelspec": {
   "name": "python385jvsc74a57bd06d4093bf0d82cf9d7cbff82fec796d9e3de98a5c49021a907317f555ca0caf40",
   "display_name": "Python 3.8.5 64-bit ('base': conda)"
  }
 },
 "nbformat": 4,
 "nbformat_minor": 2,
 "cells": [
  {
   "source": [],
   "cell_type": "markdown",
   "metadata": {}
  },
  {
   "source": [
    "# DATA ANALYSIS - AMAZON REVIEWS\n",
    "____\n",
    "by Vitor Flisch Cavalanti<br>\n",
    "May 2021\n",
    "\n",
    "<b>Case study Sr. Business Analyst</b>"
   ],
   "cell_type": "markdown",
   "metadata": {}
  },
  {
   "source": [
    "<hr><h2>1. Working with Reviews file</h2><hr>"
   ],
   "cell_type": "markdown",
   "metadata": {}
  },
  {
   "cell_type": "code",
   "execution_count": 63,
   "metadata": {},
   "outputs": [],
   "source": [
    "import pandas as pd\n",
    "import numpy as np \n",
    "import ast"
   ]
  },
  {
   "cell_type": "code",
   "execution_count": 64,
   "metadata": {},
   "outputs": [],
   "source": [
    "# use this file_name variable to receive as parameter for future automation\n",
    "file_name = \"reviews_Movies_and_TV_5.csv\"\n",
    "reviews = pd.read_csv(\"../files/\" + file_name, nrows=5)"
   ]
  },
  {
   "cell_type": "code",
   "execution_count": 65,
   "metadata": {},
   "outputs": [
    {
     "output_type": "execute_result",
     "data": {
      "text/plain": [
       "   Unnamed: 0      reviewerID     asin                         reviewerName  \\\n",
       "0           0   ADZPIG9QOCDG5  5019281  Alice L. Larson \"alice-loves-books\"   \n",
       "1           1  A35947ZP82G7JH  5019281                        Amarah Strack   \n",
       "2           2  A3UORV8A9D5L2E  5019281                      Amazon Customer   \n",
       "3           3  A1VKW06X1O2X7V  5019281           Amazon Customer \"Softmill\"   \n",
       "4           4  A3R27T4HADWFFJ  5019281                                 BABE   \n",
       "\n",
       "  helpful                                         reviewText  overall  \\\n",
       "0  [0, 0]  This is a charming version of the classic Dick...      4.0   \n",
       "1  [0, 0]  It was good but not as emotionally moving as t...      3.0   \n",
       "2  [0, 0]  Don't get me wrong, Winkler is a wonderful cha...      3.0   \n",
       "3  [0, 0]  Henry Winkler is very good in this twist on th...      5.0   \n",
       "4  [0, 0]  This is one of the best Scrooge movies out.  H...      4.0   \n",
       "\n",
       "                                        summary  unixReviewTime   reviewTime  \n",
       "0                     good version of a classic      1203984000  02 26, 2008  \n",
       "1                        Good but not as moving      1388361600  12 30, 2013  \n",
       "2         Winkler's Performance was ok at best!      1388361600  12 30, 2013  \n",
       "3  It's an enjoyable twist on the classic story      1202860800  02 13, 2008  \n",
       "4                              Best Scrooge yet      1387670400  12 22, 2013  "
      ],
      "text/html": "<div>\n<style scoped>\n    .dataframe tbody tr th:only-of-type {\n        vertical-align: middle;\n    }\n\n    .dataframe tbody tr th {\n        vertical-align: top;\n    }\n\n    .dataframe thead th {\n        text-align: right;\n    }\n</style>\n<table border=\"1\" class=\"dataframe\">\n  <thead>\n    <tr style=\"text-align: right;\">\n      <th></th>\n      <th>Unnamed: 0</th>\n      <th>reviewerID</th>\n      <th>asin</th>\n      <th>reviewerName</th>\n      <th>helpful</th>\n      <th>reviewText</th>\n      <th>overall</th>\n      <th>summary</th>\n      <th>unixReviewTime</th>\n      <th>reviewTime</th>\n    </tr>\n  </thead>\n  <tbody>\n    <tr>\n      <th>0</th>\n      <td>0</td>\n      <td>ADZPIG9QOCDG5</td>\n      <td>5019281</td>\n      <td>Alice L. Larson \"alice-loves-books\"</td>\n      <td>[0, 0]</td>\n      <td>This is a charming version of the classic Dick...</td>\n      <td>4.0</td>\n      <td>good version of a classic</td>\n      <td>1203984000</td>\n      <td>02 26, 2008</td>\n    </tr>\n    <tr>\n      <th>1</th>\n      <td>1</td>\n      <td>A35947ZP82G7JH</td>\n      <td>5019281</td>\n      <td>Amarah Strack</td>\n      <td>[0, 0]</td>\n      <td>It was good but not as emotionally moving as t...</td>\n      <td>3.0</td>\n      <td>Good but not as moving</td>\n      <td>1388361600</td>\n      <td>12 30, 2013</td>\n    </tr>\n    <tr>\n      <th>2</th>\n      <td>2</td>\n      <td>A3UORV8A9D5L2E</td>\n      <td>5019281</td>\n      <td>Amazon Customer</td>\n      <td>[0, 0]</td>\n      <td>Don't get me wrong, Winkler is a wonderful cha...</td>\n      <td>3.0</td>\n      <td>Winkler's Performance was ok at best!</td>\n      <td>1388361600</td>\n      <td>12 30, 2013</td>\n    </tr>\n    <tr>\n      <th>3</th>\n      <td>3</td>\n      <td>A1VKW06X1O2X7V</td>\n      <td>5019281</td>\n      <td>Amazon Customer \"Softmill\"</td>\n      <td>[0, 0]</td>\n      <td>Henry Winkler is very good in this twist on th...</td>\n      <td>5.0</td>\n      <td>It's an enjoyable twist on the classic story</td>\n      <td>1202860800</td>\n      <td>02 13, 2008</td>\n    </tr>\n    <tr>\n      <th>4</th>\n      <td>4</td>\n      <td>A3R27T4HADWFFJ</td>\n      <td>5019281</td>\n      <td>BABE</td>\n      <td>[0, 0]</td>\n      <td>This is one of the best Scrooge movies out.  H...</td>\n      <td>4.0</td>\n      <td>Best Scrooge yet</td>\n      <td>1387670400</td>\n      <td>12 22, 2013</td>\n    </tr>\n  </tbody>\n</table>\n</div>"
     },
     "metadata": {},
     "execution_count": 65
    }
   ],
   "source": [
    "reviews.head()"
   ]
  },
  {
   "cell_type": "code",
   "execution_count": 66,
   "metadata": {},
   "outputs": [],
   "source": [
    "# reading just columns that will be used\n",
    "reviews = pd.read_csv(\"../files/\" + file_name, usecols = ['reviewerID','asin','helpful','overall','reviewTime']) "
   ]
  },
  {
   "cell_type": "code",
   "execution_count": 67,
   "metadata": {},
   "outputs": [],
   "source": [
    "reviews[\"file\"]=file_name"
   ]
  },
  {
   "cell_type": "code",
   "execution_count": 68,
   "metadata": {},
   "outputs": [
    {
     "output_type": "execute_result",
     "data": {
      "text/plain": [
       "reviewerID    0\n",
       "asin          0\n",
       "helpful       0\n",
       "overall       0\n",
       "reviewTime    0\n",
       "file          0\n",
       "dtype: int64"
      ]
     },
     "metadata": {},
     "execution_count": 68
    }
   ],
   "source": [
    "# checking nulls\n",
    "reviews.isnull().sum()"
   ]
  },
  {
   "cell_type": "code",
   "execution_count": 69,
   "metadata": {},
   "outputs": [],
   "source": [
    "# converting reviewTime to date format\n",
    "reviews['reviewTime'] =  pd.to_datetime(reviews['reviewTime'], format='%m %d, %Y')"
   ]
  },
  {
   "cell_type": "code",
   "execution_count": 70,
   "metadata": {},
   "outputs": [],
   "source": [
    "# transforming helpful to a list object\n",
    "reviews[\"helpful\"] = reviews[\"helpful\"].apply(eval)"
   ]
  },
  {
   "cell_type": "code",
   "execution_count": 71,
   "metadata": {},
   "outputs": [],
   "source": [
    "# calculating helpful score (numerator / denominator )\n",
    "reviews['helpful_score'] = reviews.helpful.apply(lambda x: x[0]) / reviews.helpful.apply(lambda x: x[1])"
   ]
  },
  {
   "cell_type": "code",
   "execution_count": 72,
   "metadata": {},
   "outputs": [
    {
     "output_type": "execute_result",
     "data": {
      "text/plain": [
       "        reviewerID        asin helpful  overall reviewTime  \\\n",
       "0    ADZPIG9QOCDG5  0005019281  [0, 0]      4.0 2008-02-26   \n",
       "1   A35947ZP82G7JH  0005019281  [0, 0]      3.0 2013-12-30   \n",
       "2   A3UORV8A9D5L2E  0005019281  [0, 0]      3.0 2013-12-30   \n",
       "3   A1VKW06X1O2X7V  0005019281  [0, 0]      5.0 2008-02-13   \n",
       "4   A3R27T4HADWFFJ  0005019281  [0, 0]      4.0 2013-12-22   \n",
       "5   A2L0G56BNOTX6S  0005019281  [0, 0]      5.0 2013-11-06   \n",
       "6    A5NYUBEKXFLX5  0005019281  [1, 1]      5.0 2008-12-30   \n",
       "7   A2DJ8B8GE4V2VD  0005019281  [0, 0]      5.0 2009-12-15   \n",
       "8    AWF2S3UNW9UA0  0005019281  [0, 0]      5.0 2013-12-05   \n",
       "9   A3O4UUT83DG3OU  0005019281  [0, 0]      5.0 2013-09-21   \n",
       "10  A3TK5Q142X5Q8A  0005019281  [0, 0]      5.0 2013-12-20   \n",
       "11  A33EWPXESP9GQH  0005019281  [0, 0]      5.0 2014-01-27   \n",
       "12   AG8D804FUG5Y4  0005019281  [0, 1]      3.0 2008-01-09   \n",
       "13  A1GHUN5HXMHZ89  0005019281  [0, 0]      5.0 2013-12-22   \n",
       "14  A3VT62AP8KEK3V  0005019281  [1, 1]      4.0 2013-12-20   \n",
       "15   AAM67Y93KTIOL  0005019281  [0, 0]      5.0 2014-01-23   \n",
       "16  A1GQF4JDJXBRLH  0005019281  [0, 0]      5.0 2007-03-08   \n",
       "17  A13KAQO9F5X0FN  0005019281  [0, 0]      4.0 2014-01-14   \n",
       "18  A3UEOL981G9TXY  0005019281  [0, 0]      5.0 2012-02-03   \n",
       "19   AZBWH4HLG3JWV  0005019281  [0, 1]      5.0 2013-12-27   \n",
       "\n",
       "                           file  helpful_score  \n",
       "0   reviews_Movies_and_TV_5.csv            NaN  \n",
       "1   reviews_Movies_and_TV_5.csv            NaN  \n",
       "2   reviews_Movies_and_TV_5.csv            NaN  \n",
       "3   reviews_Movies_and_TV_5.csv            NaN  \n",
       "4   reviews_Movies_and_TV_5.csv            NaN  \n",
       "5   reviews_Movies_and_TV_5.csv            NaN  \n",
       "6   reviews_Movies_and_TV_5.csv            1.0  \n",
       "7   reviews_Movies_and_TV_5.csv            NaN  \n",
       "8   reviews_Movies_and_TV_5.csv            NaN  \n",
       "9   reviews_Movies_and_TV_5.csv            NaN  \n",
       "10  reviews_Movies_and_TV_5.csv            NaN  \n",
       "11  reviews_Movies_and_TV_5.csv            NaN  \n",
       "12  reviews_Movies_and_TV_5.csv            0.0  \n",
       "13  reviews_Movies_and_TV_5.csv            NaN  \n",
       "14  reviews_Movies_and_TV_5.csv            1.0  \n",
       "15  reviews_Movies_and_TV_5.csv            NaN  \n",
       "16  reviews_Movies_and_TV_5.csv            NaN  \n",
       "17  reviews_Movies_and_TV_5.csv            NaN  \n",
       "18  reviews_Movies_and_TV_5.csv            NaN  \n",
       "19  reviews_Movies_and_TV_5.csv            0.0  "
      ],
      "text/html": "<div>\n<style scoped>\n    .dataframe tbody tr th:only-of-type {\n        vertical-align: middle;\n    }\n\n    .dataframe tbody tr th {\n        vertical-align: top;\n    }\n\n    .dataframe thead th {\n        text-align: right;\n    }\n</style>\n<table border=\"1\" class=\"dataframe\">\n  <thead>\n    <tr style=\"text-align: right;\">\n      <th></th>\n      <th>reviewerID</th>\n      <th>asin</th>\n      <th>helpful</th>\n      <th>overall</th>\n      <th>reviewTime</th>\n      <th>file</th>\n      <th>helpful_score</th>\n    </tr>\n  </thead>\n  <tbody>\n    <tr>\n      <th>0</th>\n      <td>ADZPIG9QOCDG5</td>\n      <td>0005019281</td>\n      <td>[0, 0]</td>\n      <td>4.0</td>\n      <td>2008-02-26</td>\n      <td>reviews_Movies_and_TV_5.csv</td>\n      <td>NaN</td>\n    </tr>\n    <tr>\n      <th>1</th>\n      <td>A35947ZP82G7JH</td>\n      <td>0005019281</td>\n      <td>[0, 0]</td>\n      <td>3.0</td>\n      <td>2013-12-30</td>\n      <td>reviews_Movies_and_TV_5.csv</td>\n      <td>NaN</td>\n    </tr>\n    <tr>\n      <th>2</th>\n      <td>A3UORV8A9D5L2E</td>\n      <td>0005019281</td>\n      <td>[0, 0]</td>\n      <td>3.0</td>\n      <td>2013-12-30</td>\n      <td>reviews_Movies_and_TV_5.csv</td>\n      <td>NaN</td>\n    </tr>\n    <tr>\n      <th>3</th>\n      <td>A1VKW06X1O2X7V</td>\n      <td>0005019281</td>\n      <td>[0, 0]</td>\n      <td>5.0</td>\n      <td>2008-02-13</td>\n      <td>reviews_Movies_and_TV_5.csv</td>\n      <td>NaN</td>\n    </tr>\n    <tr>\n      <th>4</th>\n      <td>A3R27T4HADWFFJ</td>\n      <td>0005019281</td>\n      <td>[0, 0]</td>\n      <td>4.0</td>\n      <td>2013-12-22</td>\n      <td>reviews_Movies_and_TV_5.csv</td>\n      <td>NaN</td>\n    </tr>\n    <tr>\n      <th>5</th>\n      <td>A2L0G56BNOTX6S</td>\n      <td>0005019281</td>\n      <td>[0, 0]</td>\n      <td>5.0</td>\n      <td>2013-11-06</td>\n      <td>reviews_Movies_and_TV_5.csv</td>\n      <td>NaN</td>\n    </tr>\n    <tr>\n      <th>6</th>\n      <td>A5NYUBEKXFLX5</td>\n      <td>0005019281</td>\n      <td>[1, 1]</td>\n      <td>5.0</td>\n      <td>2008-12-30</td>\n      <td>reviews_Movies_and_TV_5.csv</td>\n      <td>1.0</td>\n    </tr>\n    <tr>\n      <th>7</th>\n      <td>A2DJ8B8GE4V2VD</td>\n      <td>0005019281</td>\n      <td>[0, 0]</td>\n      <td>5.0</td>\n      <td>2009-12-15</td>\n      <td>reviews_Movies_and_TV_5.csv</td>\n      <td>NaN</td>\n    </tr>\n    <tr>\n      <th>8</th>\n      <td>AWF2S3UNW9UA0</td>\n      <td>0005019281</td>\n      <td>[0, 0]</td>\n      <td>5.0</td>\n      <td>2013-12-05</td>\n      <td>reviews_Movies_and_TV_5.csv</td>\n      <td>NaN</td>\n    </tr>\n    <tr>\n      <th>9</th>\n      <td>A3O4UUT83DG3OU</td>\n      <td>0005019281</td>\n      <td>[0, 0]</td>\n      <td>5.0</td>\n      <td>2013-09-21</td>\n      <td>reviews_Movies_and_TV_5.csv</td>\n      <td>NaN</td>\n    </tr>\n    <tr>\n      <th>10</th>\n      <td>A3TK5Q142X5Q8A</td>\n      <td>0005019281</td>\n      <td>[0, 0]</td>\n      <td>5.0</td>\n      <td>2013-12-20</td>\n      <td>reviews_Movies_and_TV_5.csv</td>\n      <td>NaN</td>\n    </tr>\n    <tr>\n      <th>11</th>\n      <td>A33EWPXESP9GQH</td>\n      <td>0005019281</td>\n      <td>[0, 0]</td>\n      <td>5.0</td>\n      <td>2014-01-27</td>\n      <td>reviews_Movies_and_TV_5.csv</td>\n      <td>NaN</td>\n    </tr>\n    <tr>\n      <th>12</th>\n      <td>AG8D804FUG5Y4</td>\n      <td>0005019281</td>\n      <td>[0, 1]</td>\n      <td>3.0</td>\n      <td>2008-01-09</td>\n      <td>reviews_Movies_and_TV_5.csv</td>\n      <td>0.0</td>\n    </tr>\n    <tr>\n      <th>13</th>\n      <td>A1GHUN5HXMHZ89</td>\n      <td>0005019281</td>\n      <td>[0, 0]</td>\n      <td>5.0</td>\n      <td>2013-12-22</td>\n      <td>reviews_Movies_and_TV_5.csv</td>\n      <td>NaN</td>\n    </tr>\n    <tr>\n      <th>14</th>\n      <td>A3VT62AP8KEK3V</td>\n      <td>0005019281</td>\n      <td>[1, 1]</td>\n      <td>4.0</td>\n      <td>2013-12-20</td>\n      <td>reviews_Movies_and_TV_5.csv</td>\n      <td>1.0</td>\n    </tr>\n    <tr>\n      <th>15</th>\n      <td>AAM67Y93KTIOL</td>\n      <td>0005019281</td>\n      <td>[0, 0]</td>\n      <td>5.0</td>\n      <td>2014-01-23</td>\n      <td>reviews_Movies_and_TV_5.csv</td>\n      <td>NaN</td>\n    </tr>\n    <tr>\n      <th>16</th>\n      <td>A1GQF4JDJXBRLH</td>\n      <td>0005019281</td>\n      <td>[0, 0]</td>\n      <td>5.0</td>\n      <td>2007-03-08</td>\n      <td>reviews_Movies_and_TV_5.csv</td>\n      <td>NaN</td>\n    </tr>\n    <tr>\n      <th>17</th>\n      <td>A13KAQO9F5X0FN</td>\n      <td>0005019281</td>\n      <td>[0, 0]</td>\n      <td>4.0</td>\n      <td>2014-01-14</td>\n      <td>reviews_Movies_and_TV_5.csv</td>\n      <td>NaN</td>\n    </tr>\n    <tr>\n      <th>18</th>\n      <td>A3UEOL981G9TXY</td>\n      <td>0005019281</td>\n      <td>[0, 0]</td>\n      <td>5.0</td>\n      <td>2012-02-03</td>\n      <td>reviews_Movies_and_TV_5.csv</td>\n      <td>NaN</td>\n    </tr>\n    <tr>\n      <th>19</th>\n      <td>AZBWH4HLG3JWV</td>\n      <td>0005019281</td>\n      <td>[0, 1]</td>\n      <td>5.0</td>\n      <td>2013-12-27</td>\n      <td>reviews_Movies_and_TV_5.csv</td>\n      <td>0.0</td>\n    </tr>\n  </tbody>\n</table>\n</div>"
     },
     "metadata": {},
     "execution_count": 72
    }
   ],
   "source": [
    "reviews.head(20)"
   ]
  },
  {
   "cell_type": "code",
   "execution_count": 73,
   "metadata": {},
   "outputs": [
    {
     "output_type": "execute_result",
     "data": {
      "text/plain": [
       "5.0    906608\n",
       "4.0    382994\n",
       "3.0    201302\n",
       "1.0    104219\n",
       "2.0    102410\n",
       "Name: overall, dtype: int64"
      ]
     },
     "metadata": {},
     "execution_count": 73
    }
   ],
   "source": [
    "# count by review\n",
    "reviews['overall'].value_counts() "
   ]
  },
  {
   "cell_type": "code",
   "execution_count": 74,
   "metadata": {},
   "outputs": [
    {
     "output_type": "execute_result",
     "data": {
      "text/plain": [
       "4.110648217148062"
      ]
     },
     "metadata": {},
     "execution_count": 74
    }
   ],
   "source": [
    "# avg review\n",
    "reviews['overall'].mean() "
   ]
  },
  {
   "cell_type": "code",
   "execution_count": 75,
   "metadata": {},
   "outputs": [],
   "source": [
    "# save adjusted file to exports folder\n",
    "reviews.to_csv(\"../exports/\" + file_name)"
   ]
  }
 ]
}