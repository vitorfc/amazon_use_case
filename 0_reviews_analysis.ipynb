{
 "metadata": {
  "language_info": {
   "codemirror_mode": {
    "name": "ipython",
    "version": 3
   },
   "file_extension": ".py",
   "mimetype": "text/x-python",
   "name": "python",
   "nbconvert_exporter": "python",
   "pygments_lexer": "ipython3",
   "version": "3.8.5"
  },
  "orig_nbformat": 2,
  "kernelspec": {
   "name": "python385jvsc74a57bd06d4093bf0d82cf9d7cbff82fec796d9e3de98a5c49021a907317f555ca0caf40",
   "display_name": "Python 3.8.5 64-bit ('base': conda)"
  }
 },
 "nbformat": 4,
 "nbformat_minor": 2,
 "cells": [
  {
   "source": [],
   "cell_type": "markdown",
   "metadata": {}
  },
  {
   "source": [
    "# DATA ANALYSIS - AMAZON REVIEWS\n",
    "____\n",
    "by Vitor Flisch Cavalanti<br>\n",
    "May 2021\n",
    "\n",
    "<b>Case study Sr. Business Analyst</b>"
   ],
   "cell_type": "markdown",
   "metadata": {}
  },
  {
   "source": [
    "<hr><h2>1. Working with Reviews file</h2><hr>"
   ],
   "cell_type": "markdown",
   "metadata": {}
  },
  {
   "cell_type": "code",
   "execution_count": 1,
   "metadata": {},
   "outputs": [],
   "source": [
    "import pandas as pd\n",
    "import numpy as np \n",
    "import ast"
   ]
  },
  {
   "cell_type": "code",
   "execution_count": 2,
   "metadata": {},
   "outputs": [],
   "source": [
    "# use this file_name variable to receive as parameter for future automation\n",
    "file_name = \"reviews_Electronics_5.csv\"\n",
    "reviews = pd.read_csv(\"../files/\" + file_name, nrows=5)"
   ]
  },
  {
   "cell_type": "code",
   "execution_count": 4,
   "metadata": {},
   "outputs": [
    {
     "output_type": "execute_result",
     "data": {
      "text/plain": [
       "   Unnamed: 0      reviewerID       asin              reviewerName   helpful  \\\n",
       "0           0   AO94DHGC771SJ  528881469                   amazdnu    [0, 0]   \n",
       "1           1   AMO214LNFCEI4  528881469           Amazon Customer  [12, 15]   \n",
       "2           2  A3N7T0DY83Y4IG  528881469             C. A. Freeman  [43, 45]   \n",
       "3           3  A1H8PY3QHMQQA0  528881469  Dave M. Shaw \"mack dave\"   [9, 10]   \n",
       "4           4  A24EV6RXELQZ63  528881469               Wayne Smith    [0, 0]   \n",
       "\n",
       "                                          reviewText  overall  \\\n",
       "0  We got this GPS for my husband who is an (OTR)...      5.0   \n",
       "1  I'm a professional OTR truck driver, and I bou...      1.0   \n",
       "2  Well, what can I say.  I've had this unit in m...      3.0   \n",
       "3  Not going to write a long review, even thought...      2.0   \n",
       "4  I've had mine for a year and here's what we go...      1.0   \n",
       "\n",
       "                                  summary  unixReviewTime   reviewTime  \n",
       "0                         Gotta have GPS!      1370131200   06 2, 2013  \n",
       "1                       Very Disappointed      1290643200  11 25, 2010  \n",
       "2                          1st impression      1283990400   09 9, 2010  \n",
       "3                 Great grafics, POOR GPS      1290556800  11 24, 2010  \n",
       "4  Major issues, only excuses for support      1317254400  09 29, 2011  "
      ],
      "text/html": "<div>\n<style scoped>\n    .dataframe tbody tr th:only-of-type {\n        vertical-align: middle;\n    }\n\n    .dataframe tbody tr th {\n        vertical-align: top;\n    }\n\n    .dataframe thead th {\n        text-align: right;\n    }\n</style>\n<table border=\"1\" class=\"dataframe\">\n  <thead>\n    <tr style=\"text-align: right;\">\n      <th></th>\n      <th>Unnamed: 0</th>\n      <th>reviewerID</th>\n      <th>asin</th>\n      <th>reviewerName</th>\n      <th>helpful</th>\n      <th>reviewText</th>\n      <th>overall</th>\n      <th>summary</th>\n      <th>unixReviewTime</th>\n      <th>reviewTime</th>\n    </tr>\n  </thead>\n  <tbody>\n    <tr>\n      <th>0</th>\n      <td>0</td>\n      <td>AO94DHGC771SJ</td>\n      <td>528881469</td>\n      <td>amazdnu</td>\n      <td>[0, 0]</td>\n      <td>We got this GPS for my husband who is an (OTR)...</td>\n      <td>5.0</td>\n      <td>Gotta have GPS!</td>\n      <td>1370131200</td>\n      <td>06 2, 2013</td>\n    </tr>\n    <tr>\n      <th>1</th>\n      <td>1</td>\n      <td>AMO214LNFCEI4</td>\n      <td>528881469</td>\n      <td>Amazon Customer</td>\n      <td>[12, 15]</td>\n      <td>I'm a professional OTR truck driver, and I bou...</td>\n      <td>1.0</td>\n      <td>Very Disappointed</td>\n      <td>1290643200</td>\n      <td>11 25, 2010</td>\n    </tr>\n    <tr>\n      <th>2</th>\n      <td>2</td>\n      <td>A3N7T0DY83Y4IG</td>\n      <td>528881469</td>\n      <td>C. A. Freeman</td>\n      <td>[43, 45]</td>\n      <td>Well, what can I say.  I've had this unit in m...</td>\n      <td>3.0</td>\n      <td>1st impression</td>\n      <td>1283990400</td>\n      <td>09 9, 2010</td>\n    </tr>\n    <tr>\n      <th>3</th>\n      <td>3</td>\n      <td>A1H8PY3QHMQQA0</td>\n      <td>528881469</td>\n      <td>Dave M. Shaw \"mack dave\"</td>\n      <td>[9, 10]</td>\n      <td>Not going to write a long review, even thought...</td>\n      <td>2.0</td>\n      <td>Great grafics, POOR GPS</td>\n      <td>1290556800</td>\n      <td>11 24, 2010</td>\n    </tr>\n    <tr>\n      <th>4</th>\n      <td>4</td>\n      <td>A24EV6RXELQZ63</td>\n      <td>528881469</td>\n      <td>Wayne Smith</td>\n      <td>[0, 0]</td>\n      <td>I've had mine for a year and here's what we go...</td>\n      <td>1.0</td>\n      <td>Major issues, only excuses for support</td>\n      <td>1317254400</td>\n      <td>09 29, 2011</td>\n    </tr>\n  </tbody>\n</table>\n</div>"
     },
     "metadata": {},
     "execution_count": 4
    }
   ],
   "source": [
    "reviews.head()"
   ]
  },
  {
   "cell_type": "code",
   "execution_count": 5,
   "metadata": {},
   "outputs": [],
   "source": [
    "# reading just columns that will be used\n",
    "reviews = pd.read_csv(\"../files/reviews_Movies_and_TV_5.csv\", usecols = ['reviewerID','asin','helpful','overall','reviewTime']) "
   ]
  },
  {
   "cell_type": "code",
   "execution_count": 6,
   "metadata": {},
   "outputs": [
    {
     "output_type": "execute_result",
     "data": {
      "text/plain": [
       "reviewerID    0\n",
       "asin          0\n",
       "helpful       0\n",
       "overall       0\n",
       "reviewTime    0\n",
       "dtype: int64"
      ]
     },
     "metadata": {},
     "execution_count": 6
    }
   ],
   "source": [
    "# checking nulls\n",
    "reviews.isnull().sum()"
   ]
  },
  {
   "cell_type": "code",
   "execution_count": 7,
   "metadata": {},
   "outputs": [],
   "source": [
    "# converting reviewTime to date format\n",
    "reviews['reviewTime'] =  pd.to_datetime(reviews['reviewTime'], format='%m %d, %Y')"
   ]
  },
  {
   "cell_type": "code",
   "execution_count": 8,
   "metadata": {},
   "outputs": [],
   "source": [
    "# transforming helpful to a list object\n",
    "reviews[\"helpful\"] = reviews[\"helpful\"].apply(eval)"
   ]
  },
  {
   "cell_type": "code",
   "execution_count": 9,
   "metadata": {},
   "outputs": [],
   "source": [
    "# calculating helpful score (numerator / denominator )\n",
    "reviews['helpful_score'] = reviews.helpful.apply(lambda x: x[0]) / reviews.helpful.apply(lambda x: x[1])"
   ]
  },
  {
   "cell_type": "code",
   "execution_count": 10,
   "metadata": {},
   "outputs": [
    {
     "output_type": "execute_result",
     "data": {
      "text/plain": [
       "        reviewerID        asin helpful  overall reviewTime  helpful_score\n",
       "0    ADZPIG9QOCDG5  0005019281  [0, 0]      4.0 2008-02-26            NaN\n",
       "1   A35947ZP82G7JH  0005019281  [0, 0]      3.0 2013-12-30            NaN\n",
       "2   A3UORV8A9D5L2E  0005019281  [0, 0]      3.0 2013-12-30            NaN\n",
       "3   A1VKW06X1O2X7V  0005019281  [0, 0]      5.0 2008-02-13            NaN\n",
       "4   A3R27T4HADWFFJ  0005019281  [0, 0]      4.0 2013-12-22            NaN\n",
       "5   A2L0G56BNOTX6S  0005019281  [0, 0]      5.0 2013-11-06            NaN\n",
       "6    A5NYUBEKXFLX5  0005019281  [1, 1]      5.0 2008-12-30            1.0\n",
       "7   A2DJ8B8GE4V2VD  0005019281  [0, 0]      5.0 2009-12-15            NaN\n",
       "8    AWF2S3UNW9UA0  0005019281  [0, 0]      5.0 2013-12-05            NaN\n",
       "9   A3O4UUT83DG3OU  0005019281  [0, 0]      5.0 2013-09-21            NaN\n",
       "10  A3TK5Q142X5Q8A  0005019281  [0, 0]      5.0 2013-12-20            NaN\n",
       "11  A33EWPXESP9GQH  0005019281  [0, 0]      5.0 2014-01-27            NaN\n",
       "12   AG8D804FUG5Y4  0005019281  [0, 1]      3.0 2008-01-09            0.0\n",
       "13  A1GHUN5HXMHZ89  0005019281  [0, 0]      5.0 2013-12-22            NaN\n",
       "14  A3VT62AP8KEK3V  0005019281  [1, 1]      4.0 2013-12-20            1.0\n",
       "15   AAM67Y93KTIOL  0005019281  [0, 0]      5.0 2014-01-23            NaN\n",
       "16  A1GQF4JDJXBRLH  0005019281  [0, 0]      5.0 2007-03-08            NaN\n",
       "17  A13KAQO9F5X0FN  0005019281  [0, 0]      4.0 2014-01-14            NaN\n",
       "18  A3UEOL981G9TXY  0005019281  [0, 0]      5.0 2012-02-03            NaN\n",
       "19   AZBWH4HLG3JWV  0005019281  [0, 1]      5.0 2013-12-27            0.0"
      ],
      "text/html": "<div>\n<style scoped>\n    .dataframe tbody tr th:only-of-type {\n        vertical-align: middle;\n    }\n\n    .dataframe tbody tr th {\n        vertical-align: top;\n    }\n\n    .dataframe thead th {\n        text-align: right;\n    }\n</style>\n<table border=\"1\" class=\"dataframe\">\n  <thead>\n    <tr style=\"text-align: right;\">\n      <th></th>\n      <th>reviewerID</th>\n      <th>asin</th>\n      <th>helpful</th>\n      <th>overall</th>\n      <th>reviewTime</th>\n      <th>helpful_score</th>\n    </tr>\n  </thead>\n  <tbody>\n    <tr>\n      <th>0</th>\n      <td>ADZPIG9QOCDG5</td>\n      <td>0005019281</td>\n      <td>[0, 0]</td>\n      <td>4.0</td>\n      <td>2008-02-26</td>\n      <td>NaN</td>\n    </tr>\n    <tr>\n      <th>1</th>\n      <td>A35947ZP82G7JH</td>\n      <td>0005019281</td>\n      <td>[0, 0]</td>\n      <td>3.0</td>\n      <td>2013-12-30</td>\n      <td>NaN</td>\n    </tr>\n    <tr>\n      <th>2</th>\n      <td>A3UORV8A9D5L2E</td>\n      <td>0005019281</td>\n      <td>[0, 0]</td>\n      <td>3.0</td>\n      <td>2013-12-30</td>\n      <td>NaN</td>\n    </tr>\n    <tr>\n      <th>3</th>\n      <td>A1VKW06X1O2X7V</td>\n      <td>0005019281</td>\n      <td>[0, 0]</td>\n      <td>5.0</td>\n      <td>2008-02-13</td>\n      <td>NaN</td>\n    </tr>\n    <tr>\n      <th>4</th>\n      <td>A3R27T4HADWFFJ</td>\n      <td>0005019281</td>\n      <td>[0, 0]</td>\n      <td>4.0</td>\n      <td>2013-12-22</td>\n      <td>NaN</td>\n    </tr>\n    <tr>\n      <th>5</th>\n      <td>A2L0G56BNOTX6S</td>\n      <td>0005019281</td>\n      <td>[0, 0]</td>\n      <td>5.0</td>\n      <td>2013-11-06</td>\n      <td>NaN</td>\n    </tr>\n    <tr>\n      <th>6</th>\n      <td>A5NYUBEKXFLX5</td>\n      <td>0005019281</td>\n      <td>[1, 1]</td>\n      <td>5.0</td>\n      <td>2008-12-30</td>\n      <td>1.0</td>\n    </tr>\n    <tr>\n      <th>7</th>\n      <td>A2DJ8B8GE4V2VD</td>\n      <td>0005019281</td>\n      <td>[0, 0]</td>\n      <td>5.0</td>\n      <td>2009-12-15</td>\n      <td>NaN</td>\n    </tr>\n    <tr>\n      <th>8</th>\n      <td>AWF2S3UNW9UA0</td>\n      <td>0005019281</td>\n      <td>[0, 0]</td>\n      <td>5.0</td>\n      <td>2013-12-05</td>\n      <td>NaN</td>\n    </tr>\n    <tr>\n      <th>9</th>\n      <td>A3O4UUT83DG3OU</td>\n      <td>0005019281</td>\n      <td>[0, 0]</td>\n      <td>5.0</td>\n      <td>2013-09-21</td>\n      <td>NaN</td>\n    </tr>\n    <tr>\n      <th>10</th>\n      <td>A3TK5Q142X5Q8A</td>\n      <td>0005019281</td>\n      <td>[0, 0]</td>\n      <td>5.0</td>\n      <td>2013-12-20</td>\n      <td>NaN</td>\n    </tr>\n    <tr>\n      <th>11</th>\n      <td>A33EWPXESP9GQH</td>\n      <td>0005019281</td>\n      <td>[0, 0]</td>\n      <td>5.0</td>\n      <td>2014-01-27</td>\n      <td>NaN</td>\n    </tr>\n    <tr>\n      <th>12</th>\n      <td>AG8D804FUG5Y4</td>\n      <td>0005019281</td>\n      <td>[0, 1]</td>\n      <td>3.0</td>\n      <td>2008-01-09</td>\n      <td>0.0</td>\n    </tr>\n    <tr>\n      <th>13</th>\n      <td>A1GHUN5HXMHZ89</td>\n      <td>0005019281</td>\n      <td>[0, 0]</td>\n      <td>5.0</td>\n      <td>2013-12-22</td>\n      <td>NaN</td>\n    </tr>\n    <tr>\n      <th>14</th>\n      <td>A3VT62AP8KEK3V</td>\n      <td>0005019281</td>\n      <td>[1, 1]</td>\n      <td>4.0</td>\n      <td>2013-12-20</td>\n      <td>1.0</td>\n    </tr>\n    <tr>\n      <th>15</th>\n      <td>AAM67Y93KTIOL</td>\n      <td>0005019281</td>\n      <td>[0, 0]</td>\n      <td>5.0</td>\n      <td>2014-01-23</td>\n      <td>NaN</td>\n    </tr>\n    <tr>\n      <th>16</th>\n      <td>A1GQF4JDJXBRLH</td>\n      <td>0005019281</td>\n      <td>[0, 0]</td>\n      <td>5.0</td>\n      <td>2007-03-08</td>\n      <td>NaN</td>\n    </tr>\n    <tr>\n      <th>17</th>\n      <td>A13KAQO9F5X0FN</td>\n      <td>0005019281</td>\n      <td>[0, 0]</td>\n      <td>4.0</td>\n      <td>2014-01-14</td>\n      <td>NaN</td>\n    </tr>\n    <tr>\n      <th>18</th>\n      <td>A3UEOL981G9TXY</td>\n      <td>0005019281</td>\n      <td>[0, 0]</td>\n      <td>5.0</td>\n      <td>2012-02-03</td>\n      <td>NaN</td>\n    </tr>\n    <tr>\n      <th>19</th>\n      <td>AZBWH4HLG3JWV</td>\n      <td>0005019281</td>\n      <td>[0, 1]</td>\n      <td>5.0</td>\n      <td>2013-12-27</td>\n      <td>0.0</td>\n    </tr>\n  </tbody>\n</table>\n</div>"
     },
     "metadata": {},
     "execution_count": 10
    }
   ],
   "source": [
    "reviews.head(20)"
   ]
  },
  {
   "cell_type": "code",
   "execution_count": 11,
   "metadata": {},
   "outputs": [
    {
     "output_type": "execute_result",
     "data": {
      "text/plain": [
       "5.0    906608\n",
       "4.0    382994\n",
       "3.0    201302\n",
       "1.0    104219\n",
       "2.0    102410\n",
       "Name: overall, dtype: int64"
      ]
     },
     "metadata": {},
     "execution_count": 11
    }
   ],
   "source": [
    "# count by review\n",
    "reviews['overall'].value_counts() "
   ]
  },
  {
   "cell_type": "code",
   "execution_count": 12,
   "metadata": {},
   "outputs": [
    {
     "output_type": "execute_result",
     "data": {
      "text/plain": [
       "4.110648217148062"
      ]
     },
     "metadata": {},
     "execution_count": 12
    }
   ],
   "source": [
    "# avg review\n",
    "reviews['overall'].mean() "
   ]
  },
  {
   "cell_type": "code",
   "execution_count": 13,
   "metadata": {},
   "outputs": [],
   "source": [
    "# save adjusted file to exports folder\n",
    "reviews.to_csv(\"../exports/\" + file_name)"
   ]
  }
 ]
}