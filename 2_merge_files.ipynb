{
 "metadata": {
  "language_info": {
   "codemirror_mode": {
    "name": "ipython",
    "version": 3
   },
   "file_extension": ".py",
   "mimetype": "text/x-python",
   "name": "python",
   "nbconvert_exporter": "python",
   "pygments_lexer": "ipython3",
   "version": "3.8.5"
  },
  "orig_nbformat": 2,
  "kernelspec": {
   "name": "python385jvsc74a57bd06d4093bf0d82cf9d7cbff82fec796d9e3de98a5c49021a907317f555ca0caf40",
   "display_name": "Python 3.8.5 64-bit ('base': conda)"
  }
 },
 "nbformat": 4,
 "nbformat_minor": 2,
 "cells": [
  {
   "source": [
    "# DATA ANALYSIS - AMAZON REVIEWS\n",
    "____\n",
    "by Vitor Flisch Cavalanti<br>\n",
    "May 2021\n",
    "\n",
    "<b>Case study Sr. Business Analyst</b>"
   ],
   "cell_type": "markdown",
   "metadata": {}
  },
  {
   "source": [
    "<hr><h2>1. Concatenating Reviews</h2><hr>"
   ],
   "cell_type": "markdown",
   "metadata": {}
  },
  {
   "cell_type": "code",
   "execution_count": 1,
   "metadata": {},
   "outputs": [],
   "source": [
    "import pandas as pd\n",
    "import numpy as np \n",
    "import glob "
   ]
  },
  {
   "cell_type": "code",
   "execution_count": 2,
   "metadata": {},
   "outputs": [],
   "source": [
    "# loading all reviews*.csv\n",
    "path = r'..\\exports'                     \n",
    "all_files = glob.glob(os.path.join(path, \"reviews*.csv\"))    \n",
    "df_from_each_file = (pd.read_csv(f) for f in all_files)\n",
    "concatenated_df   = pd.concat(df_from_each_file, ignore_index=True)"
   ]
  },
  {
   "cell_type": "code",
   "execution_count": 3,
   "metadata": {},
   "outputs": [
    {
     "output_type": "stream",
     "name": "stdout",
     "text": [
      "<class 'pandas.core.frame.DataFrame'>\nRangeIndex: 6781787 entries, 0 to 6781786\nData columns (total 7 columns):\n #   Column         Dtype  \n---  ------         -----  \n 0   Unnamed: 0     int64  \n 1   reviewerID     object \n 2   asin           object \n 3   helpful        object \n 4   overall        float64\n 5   reviewTime     object \n 6   helpful_score  float64\ndtypes: float64(2), int64(1), object(4)\nmemory usage: 362.2+ MB\n"
     ]
    }
   ],
   "source": [
    "concatenated_df.info()"
   ]
  },
  {
   "cell_type": "code",
   "execution_count": 4,
   "metadata": {},
   "outputs": [
    {
     "output_type": "execute_result",
     "data": {
      "text/plain": [
       "Unnamed: 0       6781787\n",
       "reviewerID       6781787\n",
       "asin             6781787\n",
       "helpful          6781787\n",
       "overall          6781787\n",
       "reviewTime       6781787\n",
       "helpful_score    3992217\n",
       "dtype: int64"
      ]
     },
     "metadata": {},
     "execution_count": 4
    }
   ],
   "source": [
    "concatenated_df.count()"
   ]
  },
  {
   "cell_type": "code",
   "execution_count": 5,
   "metadata": {},
   "outputs": [],
   "source": [
    "# saving concatenated reviews to final folder\n",
    "concatenated_df.to_csv(\"../exports/final/reviews_concatenated.csv\")"
   ]
  },
  {
   "cell_type": "code",
   "execution_count": 6,
   "metadata": {},
   "outputs": [],
   "source": [
    "asin_df = concatenated_df[['asin']]"
   ]
  },
  {
   "cell_type": "code",
   "execution_count": 7,
   "metadata": {},
   "outputs": [],
   "source": [
    "# removing duplicates\n",
    "asin_df = asin_df.drop_duplicates()"
   ]
  },
  {
   "cell_type": "code",
   "execution_count": 8,
   "metadata": {},
   "outputs": [
    {
     "output_type": "execute_result",
     "data": {
      "text/plain": [
       "asin    113052\n",
       "dtype: int64"
      ]
     },
     "metadata": {},
     "execution_count": 8
    }
   ],
   "source": [
    "# checking number of unique products with reviews\n",
    "asin_df.count()"
   ]
  },
  {
   "cell_type": "code",
   "execution_count": 9,
   "metadata": {},
   "outputs": [],
   "source": [
    "# opening metadata\n",
    "metadata = pd.read_csv(\"../exports/metadata_full.csv\")"
   ]
  },
  {
   "cell_type": "code",
   "execution_count": 10,
   "metadata": {},
   "outputs": [],
   "source": [
    "# joining metadata with unique list of products with reviews\n",
    "merge = pd.merge(asin_df, metadata,on=['asin'],  how='inner')"
   ]
  },
  {
   "cell_type": "code",
   "execution_count": 11,
   "metadata": {},
   "outputs": [
    {
     "output_type": "execute_result",
     "data": {
      "text/plain": [
       "asin                  113052\n",
       "Unnamed: 0            113052\n",
       "title                  91486\n",
       "price                 106852\n",
       "brand                  36499\n",
       "salesrank_category    113052\n",
       "salesrank_value       113052\n",
       "main_category         113052\n",
       "dtype: int64"
      ]
     },
     "metadata": {},
     "execution_count": 11
    }
   ],
   "source": [
    "merge.count()"
   ]
  },
  {
   "cell_type": "code",
   "execution_count": 13,
   "metadata": {},
   "outputs": [],
   "source": [
    "# saving metadata to final folder\n",
    "merge.to_csv(\"../exports/final/metadata_final.csv\")\n",
    "del merge\n",
    "del metadata\n",
    "del asin_df"
   ]
  },
  {
   "source": [
    "<hr><h2>2. Get Overall review by year for Products Bought Together</h2><hr>"
   ],
   "cell_type": "markdown",
   "metadata": {}
  },
  {
   "cell_type": "code",
   "execution_count": 14,
   "metadata": {},
   "outputs": [],
   "source": [
    "# create separate year column for future aggregation\n",
    "concatenated_df['reviewYear'] = concatenated_df['reviewTime'].str.slice(start=0, stop=4)"
   ]
  },
  {
   "cell_type": "code",
   "execution_count": 15,
   "metadata": {},
   "outputs": [],
   "source": [
    "# create aggregated data frame by product / year and average review\n",
    "df_agg = concatenated_df.groupby(['asin','reviewYear'])['overall'].mean().reset_index()"
   ]
  },
  {
   "cell_type": "code",
   "execution_count": 16,
   "metadata": {},
   "outputs": [
    {
     "output_type": "execute_result",
     "data": {
      "text/plain": [
       "         asin reviewYear  overall\n",
       "0  0005019281       2000      4.0\n",
       "1  0005019281       2001      4.0\n",
       "2  0005019281       2002      5.0\n",
       "3  0005019281       2003      5.0\n",
       "4  0005019281       2004      3.0"
      ],
      "text/html": "<div>\n<style scoped>\n    .dataframe tbody tr th:only-of-type {\n        vertical-align: middle;\n    }\n\n    .dataframe tbody tr th {\n        vertical-align: top;\n    }\n\n    .dataframe thead th {\n        text-align: right;\n    }\n</style>\n<table border=\"1\" class=\"dataframe\">\n  <thead>\n    <tr style=\"text-align: right;\">\n      <th></th>\n      <th>asin</th>\n      <th>reviewYear</th>\n      <th>overall</th>\n    </tr>\n  </thead>\n  <tbody>\n    <tr>\n      <th>0</th>\n      <td>0005019281</td>\n      <td>2000</td>\n      <td>4.0</td>\n    </tr>\n    <tr>\n      <th>1</th>\n      <td>0005019281</td>\n      <td>2001</td>\n      <td>4.0</td>\n    </tr>\n    <tr>\n      <th>2</th>\n      <td>0005019281</td>\n      <td>2002</td>\n      <td>5.0</td>\n    </tr>\n    <tr>\n      <th>3</th>\n      <td>0005019281</td>\n      <td>2003</td>\n      <td>5.0</td>\n    </tr>\n    <tr>\n      <th>4</th>\n      <td>0005019281</td>\n      <td>2004</td>\n      <td>3.0</td>\n    </tr>\n  </tbody>\n</table>\n</div>"
     },
     "metadata": {},
     "execution_count": 16
    }
   ],
   "source": [
    "df_agg.head()"
   ]
  },
  {
   "cell_type": "code",
   "execution_count": 17,
   "metadata": {},
   "outputs": [],
   "source": [
    "# read metadata related file\n",
    "metadata_related = pd.read_csv(\"../exports/metadata_related_full.csv\")"
   ]
  },
  {
   "cell_type": "code",
   "execution_count": 18,
   "metadata": {},
   "outputs": [],
   "source": [
    "# join metadata_related with annual average by product\n",
    "metadata_join = pd.merge(metadata_related, df_agg, on=['asin'],  how='inner')"
   ]
  },
  {
   "cell_type": "code",
   "execution_count": 19,
   "metadata": {},
   "outputs": [],
   "source": [
    "# renaming columns to simplify future joins\n",
    "metadata_join.rename(columns = {'asin': 'asin_1', 'overall': 'overall_1'}, inplace = True)\n",
    "metadata_join.rename(columns = {'bought_together': 'asin'}, inplace = True)"
   ]
  },
  {
   "cell_type": "code",
   "execution_count": 21,
   "metadata": {},
   "outputs": [],
   "source": [
    "# join for the bought together products\n",
    "metadata_join2 = pd.merge(metadata_join, df_agg, on=['asin','reviewYear'],  how='inner')"
   ]
  },
  {
   "cell_type": "code",
   "execution_count": 23,
   "metadata": {},
   "outputs": [],
   "source": [
    "# renaming columns and save csv\n",
    "metadata_join2.rename(columns = {'asin_1': 'asin_prod',  'asin': 'asin_bought_together', 'overall_1': 'overall_prod', 'overall': 'overall_bought_together'}, inplace = True)\n",
    "metadata_join2.to_csv(\"../exports/final/metadata_related.csv\")\n",
    "del concatenated_df\n",
    "del df_agg\n",
    "del metadata_join\n",
    "del metadata_join2\n",
    "del metadata_related"
   ]
  }
 ]
}